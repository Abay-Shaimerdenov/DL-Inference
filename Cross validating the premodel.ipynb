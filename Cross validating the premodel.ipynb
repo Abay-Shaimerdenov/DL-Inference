{
 "cells": [
  {
   "cell_type": "markdown",
   "metadata": {},
   "source": [
    "<font size=\"5\">**Cross validating the premodel**</font>\n",
    "<br /><br />\n",
    "<font size=\"3\">All the timings and accuracy values are taken from the <font color = \"green\">database</font>. The average premodel feature extraction and prediction time were calculated <font color = \"green\">separately</font> and added to premodel inference time.</font>\n",
    " "
   ]
  },
  {
   "cell_type": "markdown",
   "metadata": {},
   "source": [
    "<font size=\"3\">First, we import the necessary libraries and start the *image generator* class.</font>"
   ]
  },
  {
   "cell_type": "code",
   "execution_count": 1,
   "metadata": {},
   "outputs": [],
   "source": [
    "import warnings\n",
    "warnings.filterwarnings('ignore')\n",
    "import numpy as np\n",
    "import pandas as pd\n",
    "from sklearn import preprocessing, neighbors\n",
    "from sklearn.model_selection import cross_validate, train_test_split\n",
    "from sklearn.linear_model import LogisticRegression\n",
    "import premodel\n",
    "#!pip install --user imblearn\n",
    "from imblearn.over_sampling import SMOTE\n",
    "from sklearn.metrics import precision_recall_fscore_support\n",
    "import image_generator\n",
    "import database"
   ]
  },
  {
   "cell_type": "code",
   "execution_count": 2,
   "metadata": {
    "scrolled": true
   },
   "outputs": [
    {
     "name": "stdout",
     "output_type": "stream",
     "text": [
      "images/val/images\\ILSVRC2012_val_00049886.JPEG red fox, Vulpes vulpes\n",
      "images/val/images\\ILSVRC2012_val_00031610.JPEG minibus\n",
      "images/val/images\\ILSVRC2012_val_00002941.JPEG hard disc, hard disk, fixed disk\n",
      "images/val/images\\ILSVRC2012_val_00020002.JPEG cab, hack, taxi, taxicab\n",
      "images/val/images\\ILSVRC2012_val_00044853.JPEG gong, tam-tam\n",
      "images/val/images\\ILSVRC2012_val_00022971.JPEG monitor\n",
      "images/val/images\\ILSVRC2012_val_00015085.JPEG coral fungus\n",
      "images/val/images\\ILSVRC2012_val_00013839.JPEG cowboy hat, ten-gallon hat\n",
      "images/val/images\\ILSVRC2012_val_00005134.JPEG dock, dockage, docking facility\n",
      "images/val/images\\ILSVRC2012_val_00004285.JPEG bell pepper\n"
     ]
    }
   ],
   "source": [
    "image_generator.main()\n",
    "imgGen = image_generator.ImageGenerator('images/val/images', 'images/val/val.txt', 'images/val/synset_words.txt')\n",
    "label_list = imgGen.get_label_list()"
   ]
  },
  {
   "cell_type": "markdown",
   "metadata": {},
   "source": [
    "<font size=\"5\">**Running the premodel**</font>\n",
    "<br /><br />\n",
    "<font size=\"3\">We cross validate two premodels (<font color = \"green\">logistic regression</font> and <font color = \"green\">knn</font>) with <font color = \"green\">10-fold cross validation</font> on <font color = \"green\">50k</font> images. So, we obtain the <u>predicted models</u> for all <font color = \"green\">50k</font> images.</font>"
   ]
  },
  {
   "cell_type": "code",
   "execution_count": 3,
   "metadata": {},
   "outputs": [],
   "source": [
    "preference = 'Top-1'                # here, we select our preference, Top-1 or Top-5\n",
    "n = 1                          # 1 for top-1, 5 for top-5\n",
    "pre_model = premodel.Premodel(preference)"
   ]
  },
  {
   "cell_type": "code",
   "execution_count": 4,
   "metadata": {
    "scrolled": true
   },
   "outputs": [],
   "source": [
    "output_log_reg = pre_model.prototype(50000, ([('log_reg', 'log_reg', 'log_reg')]))  # logistic regression premodel"
   ]
  },
  {
   "cell_type": "code",
   "execution_count": 5,
   "metadata": {},
   "outputs": [],
   "source": [
    "output_knn = pre_model.prototype(50000, ([('nn', 'nn', 'nn')]))      # knn premodel"
   ]
  },
  {
   "cell_type": "markdown",
   "metadata": {},
   "source": [
    "<font size=\"5\">**Testing the accuracy of the premodel**</font>\n",
    "<br /><br />\n",
    "<font size=\"3\">First, we extract the predicted models for the 50k images for both <font color = \"green\">logistic regression</font> and <font color = \"green\">knn</font> premodels.</font>"
   ]
  },
  {
   "cell_type": "code",
   "execution_count": 6,
   "metadata": {},
   "outputs": [],
   "source": [
    "def img_num_from_name(img_name):          # obtaining the image number from image name\n",
    "    ext = []\n",
    "    for i in range(len(img_name)):\n",
    "        if i > 14 and i < 23:\n",
    "            ext.append(img_name[i])\n",
    "    j = 0\n",
    "    for i in range(len(ext)):\n",
    "        if ext[i] == '0':\n",
    "            j = j + 1\n",
    "        if ext[i] != '0':\n",
    "            break\n",
    "    rightNum = []\n",
    "    for i in range(j, len(ext)):\n",
    "        rightNum.append(ext[i])\n",
    "    rightNum = ''.join(rightNum)\n",
    "    rightNum = int(rightNum)\n",
    "    return rightNum\n",
    "            \n",
    "# output_log_reg[5][i][1][0][j][0]         \n",
    "# [5] the 6-th returned element that we need\n",
    "# [i] the fold number - there are 10 folds\n",
    "# [1][0] - accessing the nested list\n",
    "# [j] = image number (inside the fold)\n",
    "# [0] = image path\n",
    "# [3] = predicted model\n",
    "\n",
    "            \n",
    "# output_log_reg[5][i][1][0][j][3]         \n",
    "# [5] the 6-th returned element that we need\n",
    "# [i] the fold number - there are 10 folds\n",
    "# [1][0] - accessing the nested list\n",
    "# [j] = image number (inside the fold)\n",
    "# [0] = image path\n",
    "# [3] = predicted model\n",
    "\n",
    "predicted_models_log_reg = []                              # models predicted by logistic regression premodel\n",
    "for i in range(10):\n",
    "    for j in range(len(output_log_reg[5][i][1][0])):          \n",
    "        img_paths = (output_log_reg[5][i][1][0][j][0])\n",
    "        img_nums = (img_num_from_name(img_paths))\n",
    "        if output_log_reg[5][i][1][0][j][3] == 1:\n",
    "            predicted_models_log_reg.append([img_nums, 'mobilenet_v1'])\n",
    "        elif output_log_reg[5][i][1][0][j][3] == 2:\n",
    "            predicted_models_log_reg.append([img_nums, 'inception_v4'])\n",
    "        elif output_log_reg[5][i][1][0][j][3] == 3:\n",
    "            predicted_models_log_reg.append([img_nums, 'resnet_v1_152'])\n",
    "        elif output_log_reg[5][i][1][0][j][3] == 0:\n",
    "            predicted_models_log_reg.append([img_nums, 'failed'])\n",
    "        \n",
    "\n",
    "predicted_models_knn = []                                    # models predicted by knn premodel            \n",
    "for i in range(10):\n",
    "    for j in range(len(output_knn[5][i][1][0])):\n",
    "        img_paths = (output_knn[5][i][1][0][j][0])\n",
    "        img_nums = (img_num_from_name(img_paths))\n",
    "        if output_knn[5][i][1][0][j][3] == 1:\n",
    "            predicted_models_knn.append([img_nums, 'mobilenet_v1'])\n",
    "        elif output_knn[5][i][1][0][j][3] == 2:\n",
    "            predicted_models_knn.append([img_nums, 'inception_v4'])\n",
    "        elif output_knn[5][i][1][0][j][3] == 3:\n",
    "            predicted_models_knn.append([img_nums, 'resnet_v1_152'])\n",
    "        elif output_knn[5][i][1][0][j][3] == 0:\n",
    "            predicted_models_knn.append([img_nums, 'failed'])"
   ]
  },
  {
   "cell_type": "code",
   "execution_count": 7,
   "metadata": {
    "scrolled": true
   },
   "outputs": [
    {
     "name": "stdout",
     "output_type": "stream",
     "text": [
      "50000\n"
     ]
    }
   ],
   "source": [
    "print(len(predicted_models_log_reg))"
   ]
  },
  {
   "cell_type": "code",
   "execution_count": 8,
   "metadata": {
    "scrolled": false
   },
   "outputs": [
    {
     "name": "stdout",
     "output_type": "stream",
     "text": [
      "50000\n"
     ]
    }
   ],
   "source": [
    "print(len(predicted_models_knn))"
   ]
  },
  {
   "cell_type": "code",
   "execution_count": 9,
   "metadata": {},
   "outputs": [],
   "source": [
    "def best_models(best_top_model_names):\n",
    "    best_models = []\n",
    "    for i in range(len(best_top_model_names)):\n",
    "        if best_top_model_names[i][1] == 'mobilenet_v1':\n",
    "            best_models.append([best_top_model_names[i][0], 1, 0, 0])\n",
    "        elif best_top_model_names[i][1] == 'inception_v4':\n",
    "            best_models.append([best_top_model_names[i][0], 0, 1, 0])\n",
    "        elif best_top_model_names[i][1] == 'resnet_v1_152':\n",
    "            best_models.append([best_top_model_names[i][0], 0, 0, 1])\n",
    "        elif best_top_model_names[i][1] == 'failed':\n",
    "            best_models.append([best_top_model_names[i][0], 0, 0, 0])\n",
    "    return best_models"
   ]
  },
  {
   "cell_type": "code",
   "execution_count": 10,
   "metadata": {},
   "outputs": [],
   "source": [
    "predicted_models_knn.sort(key = lambda tup: tup[0])\n",
    "predicted_models_log_reg.sort(key = lambda tup: tup[0])"
   ]
  },
  {
   "cell_type": "code",
   "execution_count": 11,
   "metadata": {},
   "outputs": [],
   "source": [
    "knn_predictions = best_models(predicted_models_knn)\n",
    "log_reg_predictions = best_models(predicted_models_log_reg)"
   ]
  },
  {
   "cell_type": "code",
   "execution_count": 12,
   "metadata": {},
   "outputs": [],
   "source": [
    "import csv, sys\n",
    "\n",
    "filename = 'knn_predictions.csv'\n",
    "with open('knn_predictions.csv', mode='w', newline='') as featuresFile1:\n",
    "    features_writer = csv.writer(featuresFile1, delimiter=',', quotechar='\"', quoting=csv.QUOTE_MINIMAL)\n",
    "\n",
    "    features_writer.writerow(['filename', 'Mobilenet_v1', 'Inception_v4', 'Resnet_v1_152'])\n",
    "    for i in range(len(knn_predictions)):\n",
    "        row = ([knn_predictions[i][0], knn_predictions[i][1], knn_predictions[i][2], knn_predictions[i][3]])\n",
    "        features_writer.writerow(row)"
   ]
  },
  {
   "cell_type": "code",
   "execution_count": 13,
   "metadata": {},
   "outputs": [],
   "source": [
    "filename = 'log_reg_predictions.csv'\n",
    "with open('log_reg_predictions.csv', mode='w', newline='') as featuresFile1:\n",
    "    features_writer = csv.writer(featuresFile1, delimiter=',', quotechar='\"', quoting=csv.QUOTE_MINIMAL)\n",
    "\n",
    "    features_writer.writerow(['filename', 'Mobilenet_v1', 'Inception_v4', 'Resnet_v1_152'])\n",
    "    for i in range(len(knn_predictions)):\n",
    "        row = ([log_reg_predictions[i][0], log_reg_predictions[i][1], log_reg_predictions[i][2], log_reg_predictions[i][3]])\n",
    "        features_writer.writerow(row)"
   ]
  },
  {
   "cell_type": "markdown",
   "metadata": {},
   "source": [
    "<font size=\"3\">Now, we obtain the <font color = \"green\">accuracy</font> and <font color = \"green\">inference time</font> results of the predicted models from the database.</font>"
   ]
  },
  {
   "cell_type": "code",
   "execution_count": 14,
   "metadata": {},
   "outputs": [],
   "source": [
    "def get_performance_premodel(predicted_models, premodel_overhead):\n",
    "    accuracy = 0\n",
    "    time = 0\n",
    "    times = 0\n",
    "    for i in range(len(predicted_models)):\n",
    "        if predicted_models[i][1] != 'failed':\n",
    "            times = times + 1\n",
    "            accuracy = accuracy + (database.get_model_top_n(\"inference\", predicted_models[i][0], predicted_models[i][1], n))\n",
    "            time = time + (database.get_model_time(\"inference\", predicted_models[i][0], predicted_models[i][1]))\n",
    "    return accuracy/len(predicted_models), (time/times) + premodel_overhead"
   ]
  },
  {
   "cell_type": "code",
   "execution_count": 15,
   "metadata": {
    "scrolled": true
   },
   "outputs": [
    {
     "name": "stdout",
     "output_type": "stream",
     "text": [
      "Logistic regression premodel accuracy = 0.76692\n",
      "Logistic regression premodel average inference time = 476.27206\n"
     ]
    }
   ],
   "source": [
    "log_reg_accuracy, log_reg_time = get_performance_premodel(predicted_models_log_reg, 53.16788)\n",
    "print(\"Logistic regression premodel accuracy = {}\".format(log_reg_accuracy))\n",
    "print(\"Logistic regression premodel average inference time = {}\".format(log_reg_time))"
   ]
  },
  {
   "cell_type": "code",
   "execution_count": 16,
   "metadata": {},
   "outputs": [
    {
     "name": "stdout",
     "output_type": "stream",
     "text": [
      "KNN premodel accuracy = 0.7515\n",
      "KNN premodel average inference time = 475.09619660581114\n"
     ]
    }
   ],
   "source": [
    "knn_accuracy, knn_time = get_performance_premodel(predicted_models_knn,  51.74009)\n",
    "print(\"KNN premodel accuracy = {}\".format(knn_accuracy))\n",
    "print(\"KNN premodel average inference time = {}\".format(knn_time))"
   ]
  },
  {
   "cell_type": "markdown",
   "metadata": {},
   "source": [
    "<font size=\"5\">**Comparing the results to MobileNet, Inception and ResNet**</font>\n",
    "<br /><br />\n",
    "<font size=\"3\">We start by getting the <font color = \"green\">image numbers</font> of the 50k images.</font>"
   ]
  },
  {
   "cell_type": "code",
   "execution_count": 17,
   "metadata": {},
   "outputs": [],
   "source": [
    "img_nums = []\n",
    "for i in range(1, 50001):                        # the same range of images is selected\n",
    "    img_nums.append(i)"
   ]
  },
  {
   "cell_type": "markdown",
   "metadata": {},
   "source": [
    "<font size=\"3\">Finally, we obtain the <font color = \"green\">accuracy</font> and <font color = \"green\">inference time</font> results for each DNN separately from the database.</font>"
   ]
  },
  {
   "cell_type": "code",
   "execution_count": 18,
   "metadata": {},
   "outputs": [],
   "source": [
    "def get_performance_DNN(DNN_model_name):\n",
    "    accuracy = 0\n",
    "    time = 0\n",
    "    for i in range(len(img_nums)):                            # obtaining accuracy and inference time for each image\n",
    "        accuracy = accuracy + (database.get_model_top_n(\"inference\", img_nums[i], DNN_model_name, n))\n",
    "        time = time + (database.get_model_time(\"inference\", img_nums[i], DNN_model_name))\n",
    "    return accuracy/len(img_nums), time/len(img_nums)"
   ]
  },
  {
   "cell_type": "code",
   "execution_count": 19,
   "metadata": {},
   "outputs": [
    {
     "name": "stdout",
     "output_type": "stream",
     "text": [
      "Mobilenet top-1 accuracy = 0.7102\n",
      "Mobilenet average inference time = 107.24932\n",
      "Inception top-1 accuracy = 0.80184\n",
      "Inception average inference time = 640.85854\n",
      "ResNet top-1 accuracy = 0.76798\n",
      "ResNet average inference time = 730.63198\n"
     ]
    }
   ],
   "source": [
    "mobilenet_accuracy, mobilenet_time = get_performance_DNN(\"mobilenet_v1\")\n",
    "print(\"Mobilenet top-{} accuracy = {}\".format(n, mobilenet_accuracy))          # accuracy over 20k images\n",
    "print(\"Mobilenet average inference time = {}\".format(mobilenet_time))   # average inference time over 20k images\n",
    "\n",
    "\n",
    "inception_accuracy, inception_time = get_performance_DNN(\"inception_v4\")\n",
    "print(\"Inception top-{} accuracy = {}\".format(n, inception_accuracy))\n",
    "print(\"Inception average inference time = {}\".format(inception_time))\n",
    "\n",
    "\n",
    "resnet_accuracy, resnet_time = get_performance_DNN(\"resnet_v1_152\")\n",
    "print(\"ResNet top-{} accuracy = {}\".format(n, resnet_accuracy))\n",
    "print(\"ResNet average inference time = {}\".format(resnet_time))"
   ]
  },
  {
   "cell_type": "markdown",
   "metadata": {},
   "source": [
    "<font size=\"3\">Here, we plot the results for comparison.</font>"
   ]
  },
  {
   "cell_type": "code",
   "execution_count": 20,
   "metadata": {},
   "outputs": [],
   "source": [
    "import matplotlib.pyplot as plt"
   ]
  },
  {
   "cell_type": "code",
   "execution_count": 21,
   "metadata": {},
   "outputs": [
    {
     "name": "stderr",
     "output_type": "stream",
     "text": [
      "No handles with labels found to put in legend.\n"
     ]
    },
    {
     "data": {
      "text/plain": [
       "<matplotlib.legend.Legend at 0x2bc97592f48>"
      ]
     },
     "execution_count": 21,
     "metadata": {},
     "output_type": "execute_result"
    },
    {
     "data": {
      "image/png": "[encoded data removed]",
      "text/plain": [
       "<Figure size 432x288 with 1 Axes>"
      ]
     },
     "metadata": {
      "needs_background": "light"
     },
     "output_type": "display_data"
    }
   ],
   "source": [
    "model_names = ['Mobilenet', 'Inception', 'Resnet', 'Log reg prem', 'KNN prem']\n",
    "accuracy = [mobilenet_accuracy, inception_accuracy,\n",
    "            resnet_accuracy, log_reg_accuracy, knn_accuracy]\n",
    "\n",
    "for i in range(len(accuracy)):\n",
    "    accuracy[i] = accuracy[i]*100\n",
    "\n",
    "ypos = np.arange(len(model_names))\n",
    "\n",
    "plt.xticks(ypos, model_names)\n",
    "plt.ylabel(\"accuracy (%)\")\n",
    "plt.title(\"{} accuracy\".format(preference))\n",
    "plt.bar(ypos, accuracy)\n",
    "plt.ylim(top = 85)\n",
    "plt.ylim(bottom = 65)\n",
    "plt.legend()"
   ]
  },
  {
   "cell_type": "code",
   "execution_count": 22,
   "metadata": {},
   "outputs": [
    {
     "data": {
      "text/plain": [
       "<matplotlib.legend.Legend at 0x2bc9c21e688>"
      ]
     },
     "execution_count": 22,
     "metadata": {},
     "output_type": "execute_result"
    },
    {
     "data": {
      "image/png": "[encoded data removed]",
      "text/plain": [
       "<Figure size 432x288 with 1 Axes>"
      ]
     },
     "metadata": {
      "needs_background": "light"
     },
     "output_type": "display_data"
    }
   ],
   "source": [
    "times = [mobilenet_time, inception_time,\n",
    "         resnet_time, log_reg_time, knn_time]\n",
    "times_premodel = [0, 0, 0, 42.39268, 43.00882]\n",
    "\n",
    "for i in range(len(times)):\n",
    "    times[i] = times[i]/1000\n",
    "\n",
    "for i in range(len(times_premodel)):\n",
    "    times_premodel[i] = times_premodel[i]/1000\n",
    "    \n",
    "plt.xticks(ypos, model_names)\n",
    "plt.ylabel(\"inference time (s)\")\n",
    "plt.title(\"Inference time\")\n",
    "plt.bar(ypos, times, label = \"Inference\")\n",
    "plt.bar(ypos, times_premodel, label = \"Premodel\")\n",
    "plt.legend()"
   ]
  },
  {
   "cell_type": "code",
   "execution_count": null,
   "metadata": {},
   "outputs": [],
   "source": []
  }
 ],
 "metadata": {
  "kernelspec": {
   "display_name": "Python 3",
   "language": "python",
   "name": "python3"
  },
  "language_info": {
   "codemirror_mode": {
    "name": "ipython",
    "version": 3
   },
   "file_extension": ".py",
   "mimetype": "text/x-python",
   "name": "python",
   "nbconvert_exporter": "python",
   "pygments_lexer": "ipython3",
   "version": "3.7.7"
  }
 },
 "nbformat": 4,
 "nbformat_minor": 4
}
