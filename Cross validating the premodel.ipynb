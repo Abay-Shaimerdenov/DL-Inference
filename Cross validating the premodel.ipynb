{
 "cells": [
  {
   "cell_type": "markdown",
   "metadata": {},
   "source": [
    "<font size=\"5\">**Cross validating the premodel**</font>\n",
    "<br /><br />\n",
    "<font size=\"3\">All the timings and accuracy values are taken from the <font color = \"green\">database</font>. The average premodel feature extraction and prediction time were calculated <font color = \"green\">separately</font> and added to premodel inference time.</font>\n",
    " "
   ]
  },
  {
   "cell_type": "markdown",
   "metadata": {},
   "source": [
    "<font size=\"3\">First, we import the necessary libraries and start the *image generator* class.</font>"
   ]
  },
  {
   "cell_type": "code",
   "execution_count": 1,
   "metadata": {},
   "outputs": [],
   "source": [
    "import warnings\n",
    "warnings.filterwarnings('ignore')\n",
    "import numpy as np\n",
    "import pandas as pd\n",
    "from sklearn import preprocessing, neighbors\n",
    "from sklearn.model_selection import cross_validate, train_test_split\n",
    "from sklearn.linear_model import LogisticRegression\n",
    "import premodel\n",
    "#!pip install --user imblearn\n",
    "from imblearn.over_sampling import SMOTE\n",
    "from sklearn.metrics import precision_recall_fscore_support\n",
    "import image_generator\n",
    "import database"
   ]
  },
  {
   "cell_type": "code",
   "execution_count": 2,
   "metadata": {
    "scrolled": true
   },
   "outputs": [
    {
     "name": "stdout",
     "output_type": "stream",
     "text": [
      "images/val/images\\ILSVRC2012_val_00023902.JPEG American alligator, Alligator mississipiensis\n",
      "images/val/images\\ILSVRC2012_val_00022100.JPEG worm fence, snake fence, snake-rail fence, Virginia fence\n",
      "images/val/images\\ILSVRC2012_val_00006920.JPEG EntleBucher\n",
      "images/val/images\\ILSVRC2012_val_00048551.JPEG snowmobile\n",
      "images/val/images\\ILSVRC2012_val_00033690.JPEG EntleBucher\n",
      "images/val/images\\ILSVRC2012_val_00031331.JPEG organ, pipe organ\n",
      "images/val/images\\ILSVRC2012_val_00029319.JPEG assault rifle, assault gun\n",
      "images/val/images\\ILSVRC2012_val_00023846.JPEG Eskimo dog, husky\n",
      "images/val/images\\ILSVRC2012_val_00000986.JPEG wolf spider, hunting spider\n",
      "images/val/images\\ILSVRC2012_val_00038277.JPEG geyser\n"
     ]
    }
   ],
   "source": [
    "image_generator.main()\n",
    "imgGen = image_generator.ImageGenerator('images/val/images', 'images/val/val.txt', 'images/val/synset_words.txt')\n",
    "label_list = imgGen.get_label_list()"
   ]
  },
  {
   "cell_type": "markdown",
   "metadata": {},
   "source": [
    "<font size=\"5\">**Running the premodel**</font>\n",
    "<br /><br />\n",
    "<font size=\"3\">We cross validate two premodels (<font color = \"green\">logistic regression</font> and <font color = \"green\">knn</font>) with <font color = \"green\">10-fold cross validation</font> on <font color = \"green\">20k</font> images. So, we obtain the <u>predicted models</u> for all <font color = \"green\">20k</font> images.</font>"
   ]
  },
  {
   "cell_type": "code",
   "execution_count": 3,
   "metadata": {},
   "outputs": [],
   "source": [
    "preference = 'Top-1'                # here, we select our preference, Top-1 or Top-5\n",
    "n = 1                          # 1 for top-1, 5 for top-5\n",
    "pre_model = premodel.Premodel(preference)"
   ]
  },
  {
   "cell_type": "code",
   "execution_count": 4,
   "metadata": {
    "scrolled": true
   },
   "outputs": [],
   "source": [
    "output_log_reg = pre_model.prototype(20000, ([('log_reg', 'log_reg', 'log_reg')]))  # logistic regression premodel"
   ]
  },
  {
   "cell_type": "code",
   "execution_count": 5,
   "metadata": {},
   "outputs": [],
   "source": [
    "output_knn = pre_model.prototype(20000, ([('nn', 'nn', 'nn')]))      # knn premodel"
   ]
  },
  {
   "cell_type": "markdown",
   "metadata": {},
   "source": [
    "<font size=\"5\">**Testing the accuracy of the premodel**</font>\n",
    "<br /><br />\n",
    "<font size=\"3\">First, we extract the predicted models for the 20k images for both <font color = \"green\">logistic regression</font> and <font color = \"green\">knn</font> premodels.</font>"
   ]
  },
  {
   "cell_type": "code",
   "execution_count": 6,
   "metadata": {},
   "outputs": [],
   "source": [
    "def img_num_from_name(img_name):          # obtaining the image number from image name\n",
    "    ext = []\n",
    "    for i in range(len(img_name)):\n",
    "        if i > 14 and i < 23:\n",
    "            ext.append(img_name[i])\n",
    "    j = 0\n",
    "    for i in range(len(ext)):\n",
    "        if ext[i] == '0':\n",
    "            j = j + 1\n",
    "        if ext[i] != '0':\n",
    "            break\n",
    "    rightNum = []\n",
    "    for i in range(j, len(ext)):\n",
    "        rightNum.append(ext[i])\n",
    "    rightNum = ''.join(rightNum)\n",
    "    rightNum = int(rightNum)\n",
    "    return rightNum\n",
    "\n",
    "\n",
    "predicted_models_log_reg = []                              # models predicted by logistic regression premodel\n",
    "for i in range(10):\n",
    "    for j in range(len(output_log_reg[5][i][1][0])):\n",
    "        img_paths = (output_log_reg[5][i][1][0][j][0])\n",
    "        img_nums = (img_num_from_name(img_paths))\n",
    "        if output_log_reg[5][i][1][0][j][4] == 'tf-mobilenet_v1' and output_log_reg[5][i][1][0][j][3] == 1:\n",
    "            predicted_models_log_reg.append([img_nums, 'mobilenet_v1'])\n",
    "        elif output_log_reg[5][i][1][0][j][4] == 'tf-inception_v4' and output_log_reg[5][i][1][0][j][3] == 2:\n",
    "            predicted_models_log_reg.append([img_nums, 'inception_v4'])\n",
    "        elif output_log_reg[5][i][1][0][j][4] == 'tf-resnet_v1_152' and output_log_reg[5][i][1][0][j][3] == 3:\n",
    "            predicted_models_log_reg.append([img_nums, 'resnet_v1_152'])\n",
    "        elif output_log_reg[5][i][1][0][j][4] == 'failed':\n",
    "            predicted_models_log_reg.append([img_nums, 'failed'])\n",
    "        \n",
    "\n",
    "predicted_models_knn = []                                    # models predicted by knn premodel            \n",
    "for i in range(10):\n",
    "    for j in range(len(output_knn[5][i][1][0])):\n",
    "        img_paths = (output_knn[5][i][1][0][j][0])\n",
    "        img_nums = (img_num_from_name(img_paths))\n",
    "        if output_knn[5][i][1][0][j][4] == 'tf-mobilenet_v1' and output_knn[5][i][1][0][j][3] == 1:\n",
    "            predicted_models_knn.append([img_nums, 'mobilenet_v1'])\n",
    "        elif output_knn[5][i][1][0][j][4] == 'tf-inception_v4' and output_knn[5][i][1][0][j][3] == 2:\n",
    "            predicted_models_knn.append([img_nums, 'inception_v4'])\n",
    "        elif output_knn[5][i][1][0][j][4] == 'tf-resnet_v1_152' and output_knn[5][i][1][0][j][3] == 3:\n",
    "            predicted_models_knn.append([img_nums, 'resnet_v1_152'])\n",
    "        elif output_knn[5][i][1][0][j][4] == 'failed':\n",
    "            predicted_models_knn.append([img_nums, 'failed'])"
   ]
  },
  {
   "cell_type": "code",
   "execution_count": 7,
   "metadata": {},
   "outputs": [
    {
     "name": "stdout",
     "output_type": "stream",
     "text": [
      "20000\n"
     ]
    }
   ],
   "source": [
    "print(len(predicted_models_log_reg))"
   ]
  },
  {
   "cell_type": "code",
   "execution_count": 8,
   "metadata": {},
   "outputs": [
    {
     "name": "stdout",
     "output_type": "stream",
     "text": [
      "20000\n"
     ]
    }
   ],
   "source": [
    "print(len(predicted_models_knn))"
   ]
  },
  {
   "cell_type": "markdown",
   "metadata": {},
   "source": [
    "<font size=\"3\">Now, we obtain the <font color = \"green\">accuracy</font> and <font color = \"green\">inference time</font> results of the predicted models from the database.</font>"
   ]
  },
  {
   "cell_type": "code",
   "execution_count": 9,
   "metadata": {},
   "outputs": [
    {
     "name": "stdout",
     "output_type": "stream",
     "text": [
      "Logistic regression premodel accuracy = 0.7667\n",
      "Logistic regression premodel average inference time = 487.19725182873145\n"
     ]
    }
   ],
   "source": [
    "accuracy_premodel = 0\n",
    "time_premodel = 0\n",
    "times = 0\n",
    "log_reg_premodel_overhead = 42.39268                                      # average logistic regression premodel overhead\n",
    "\n",
    "for i in range(len(predicted_models_log_reg)):\n",
    "    if predicted_models_log_reg[i][1] != 'failed':\n",
    "        times = times + 1                          # get_model_top_n (next line), where n is 1 or 5\n",
    "        accuracy_premodel = accuracy_premodel + (database.get_model_top_n(\"inference\", predicted_models_log_reg[i][0], predicted_models_log_reg[i][1], n))\n",
    "        time_premodel = time_premodel + (database.get_model_time(\"inference\", predicted_models_log_reg[i][0], predicted_models_log_reg[i][1]))\n",
    "\n",
    "log_reg_accuracy = accuracy_premodel/len(predicted_models_log_reg)               # logistic regression premodel accuracy\n",
    "log_reg_time = (time_premodel/times) + log_reg_premodel_overhead                 # logistic regression premodel inference time       \n",
    "print(\"Logistic regression premodel accuracy = {}\".format(log_reg_accuracy))\n",
    "print(\"Logistic regression premodel average inference time = {}\".format(log_reg_time))"
   ]
  },
  {
   "cell_type": "code",
   "execution_count": 10,
   "metadata": {},
   "outputs": [
    {
     "name": "stdout",
     "output_type": "stream",
     "text": [
      "KNN premodel accuracy = 0.74845\n",
      "KNN premodel average inference time = 481.9599984511785\n"
     ]
    }
   ],
   "source": [
    "accuracy_premodel = 0\n",
    "time_premodel = 0\n",
    "times = 0\n",
    "knn_premodel_overhead = 43.00882                                           # average knn premodel overhead\n",
    "\n",
    "for i in range(len(predicted_models_knn)):\n",
    "    if predicted_models_knn[i][1] != 'failed':\n",
    "        times = times + 1                           # get_model_top_n (next line), where n is 1 or 5\n",
    "        accuracy_premodel = accuracy_premodel + (database.get_model_top_n(\"inference\", predicted_models_knn[i][0], predicted_models_knn[i][1], n))\n",
    "        time_premodel = time_premodel + (database.get_model_time(\"inference\", predicted_models_knn[i][0], predicted_models_knn[i][1]))\n",
    "\n",
    "knn_accuracy = accuracy_premodel/len(predicted_models_knn)                        # knn premodel accuracy\n",
    "knn_time = (time_premodel/times) + knn_premodel_overhead                             # knnn premodel inference time\n",
    "print(\"KNN premodel accuracy = {}\".format(knn_accuracy))\n",
    "print(\"KNN premodel average inference time = {}\".format(knn_time))"
   ]
  },
  {
   "cell_type": "markdown",
   "metadata": {},
   "source": [
    "<font size=\"5\">**Comparing the results to MobileNet, Inception and ResNet**</font>\n",
    "<br /><br />\n",
    "<font size=\"3\">We start by getting the <font color = \"green\">image numbers</font> of the 20k images.</font>"
   ]
  },
  {
   "cell_type": "code",
   "execution_count": 11,
   "metadata": {},
   "outputs": [],
   "source": [
    "img_nums = []\n",
    "for i in range(1, 20001):                        # the same range of images is selected\n",
    "    img_nums.append(i)"
   ]
  },
  {
   "cell_type": "markdown",
   "metadata": {},
   "source": [
    "<font size=\"3\">Finally, we obtain the <font color = \"green\">accuracy</font> and <font color = \"green\">inference time</font> results for each DNN separately from the database.</font>"
   ]
  },
  {
   "cell_type": "code",
   "execution_count": 12,
   "metadata": {
    "scrolled": true
   },
   "outputs": [
    {
     "name": "stdout",
     "output_type": "stream",
     "text": [
      "Mobilenet top-1 accuracy = 0.71375\n",
      "Mobilenet average inference time = 103.11685\n",
      "Inception top-1 accuracy = 0.7995\n",
      "Inception average inference time = 685.91255\n",
      "ResNet top-1 accuracy = 0.7665\n",
      "ResNet average inference time = 734.5622\n"
     ]
    }
   ],
   "source": [
    "mobilenet_right = 0\n",
    "mobilenet_time = 0\n",
    "for i in range(len(img_nums)):                            # obtaining accuracy and inference time for each image\n",
    "    mobilenet_right = mobilenet_right + (database.get_model_top_n(\"inference\", img_nums[i], 'mobilenet_v1', n))\n",
    "    mobilenet_time = mobilenet_time + (database.get_model_time(\"inference\", img_nums[i], 'mobilenet_v1'))\n",
    "print(\"Mobilenet top-{} accuracy = {}\".format(n, mobilenet_right/len(img_nums)))          # accuracy over 20k images\n",
    "print(\"Mobilenet average inference time = {}\".format(mobilenet_time/len(img_nums)))   # average inference time over 20k images\n",
    "\n",
    "inception_right = 0\n",
    "inception_time = 0\n",
    "for i in range(len(img_nums)):\n",
    "    inception_right = inception_right + (database.get_model_top_n(\"inference\", img_nums[i], 'inception_v4', n))\n",
    "    inception_time = inception_time + (database.get_model_time(\"inference\", img_nums[i], 'inception_v4'))\n",
    "print(\"Inception top-{} accuracy = {}\".format(n, inception_right/len(img_nums)))\n",
    "print(\"Inception average inference time = {}\".format(inception_time/len(img_nums)))\n",
    "\n",
    "resnet_right = 0\n",
    "resnet_time = 0\n",
    "for i in range(len(img_nums)):\n",
    "    resnet_right = resnet_right + (database.get_model_top_n(\"inference\", img_nums[i], 'resnet_v1_152', n))\n",
    "    resnet_time = resnet_time + (database.get_model_time(\"inference\", img_nums[i], 'resnet_v1_152'))\n",
    "print(\"ResNet top-{} accuracy = {}\".format(n, resnet_right/len(img_nums)))\n",
    "print(\"ResNet average inference time = {}\".format(resnet_time/len(img_nums)))"
   ]
  },
  {
   "cell_type": "markdown",
   "metadata": {},
   "source": [
    "<font size=\"3\">Here, we plot the results for comparison.</font>"
   ]
  },
  {
   "cell_type": "code",
   "execution_count": 13,
   "metadata": {},
   "outputs": [],
   "source": [
    "import matplotlib.pyplot as plt"
   ]
  },
  {
   "cell_type": "code",
   "execution_count": 17,
   "metadata": {},
   "outputs": [
    {
     "name": "stderr",
     "output_type": "stream",
     "text": [
      "No handles with labels found to put in legend.\n"
     ]
    },
    {
     "data": {
      "text/plain": [
       "<matplotlib.legend.Legend at 0x16ab9c172c8>"
      ]
     },
     "execution_count": 17,
     "metadata": {},
     "output_type": "execute_result"
    },
    {
     "data": {
      "image/png": "[encoded data removed]",
      "text/plain": [
       "<Figure size 432x288 with 1 Axes>"
      ]
     },
     "metadata": {
      "needs_background": "light"
     },
     "output_type": "display_data"
    }
   ],
   "source": [
    "model_names = ['Mobilenet', 'Inception', 'Resnet', 'Log reg prem', 'KNN prem']\n",
    "accuracy = [mobilenet_right/len(img_nums), inception_right/len(img_nums),\n",
    "            resnet_right/len(img_nums), log_reg_accuracy, knn_accuracy]\n",
    "\n",
    "for i in range(len(accuracy)):\n",
    "    accuracy[i] = accuracy[i]*100\n",
    "\n",
    "ypos = np.arange(len(model_names))\n",
    "\n",
    "plt.xticks(ypos, model_names)\n",
    "plt.ylabel(\"accuracy (%)\")\n",
    "plt.title(\"{} accuracy\".format(preference))\n",
    "plt.bar(ypos, accuracy)\n",
    "plt.ylim(top = 85)\n",
    "plt.ylim(bottom = 65)\n",
    "plt.legend()"
   ]
  },
  {
   "cell_type": "code",
   "execution_count": 15,
   "metadata": {},
   "outputs": [
    {
     "data": {
      "text/plain": [
       "<matplotlib.legend.Legend at 0x16ab9884088>"
      ]
     },
     "execution_count": 15,
     "metadata": {},
     "output_type": "execute_result"
    },
    {
     "data": {
      "image/png": "[encoded data removed]",
      "text/plain": [
       "<Figure size 432x288 with 1 Axes>"
      ]
     },
     "metadata": {
      "needs_background": "light"
     },
     "output_type": "display_data"
    }
   ],
   "source": [
    "times = [mobilenet_time/len(img_nums), inception_time/len(img_nums),\n",
    "         resnet_time/len(img_nums), log_reg_time, knn_time]\n",
    "times_premodel = [0, 0, 0, log_reg_premodel_overhead, knn_premodel_overhead]\n",
    "\n",
    "for i in range(len(times)):\n",
    "    times[i] = times[i]/1000\n",
    "\n",
    "for i in range(len(times_premodel)):\n",
    "    times_premodel[i] = times_premodel[i]/1000\n",
    "    \n",
    "plt.xticks(ypos, model_names)\n",
    "plt.ylabel(\"inference time (s)\")\n",
    "plt.title(\"Inference time\")\n",
    "plt.bar(ypos, times, label = \"Inference\")\n",
    "plt.bar(ypos, times_premodel, label = \"Premodel\")\n",
    "plt.legend()"
   ]
  }
 ],
 "metadata": {
  "kernelspec": {
   "display_name": "Python 3",
   "language": "python",
   "name": "python3"
  },
  "language_info": {
   "codemirror_mode": {
    "name": "ipython",
    "version": 3
   },
   "file_extension": ".py",
   "mimetype": "text/x-python",
   "name": "python",
   "nbconvert_exporter": "python",
   "pygments_lexer": "ipython3",
   "version": "3.7.7"
  }
 },
 "nbformat": 4,
 "nbformat_minor": 4
}
