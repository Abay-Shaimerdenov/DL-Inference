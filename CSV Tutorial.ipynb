{
 "cells": [
  {
   "cell_type": "markdown",
   "metadata": {},
   "source": [
    "<font size=\"5\">**Importing the libraries**</font>\n",
    "<br /><br />\n",
    "<font size=\"3\">First, we import the necessary libraries.</font>"
   ]
  },
  {
   "cell_type": "code",
   "execution_count": 1,
   "metadata": {},
   "outputs": [],
   "source": [
    "import mysql.connector as mysql\n",
    "import database as db\n",
    "import csv, sys\n",
    "import image_generator\n",
    "import feature_extractor\n",
    "import pandas as pd\n",
    "import numpy as np\n",
    "import os\n",
    "#os.environ[\"CUDA_VISIBLE_DEVICES\"]=\"-1\"    \n",
    "#!unset CUDA_VISIBLE_DEVICES"
   ]
  },
  {
   "cell_type": "markdown",
   "metadata": {},
   "source": [
    "<font size=\"5\">**Extracting the features**</font>"
   ]
  },
  {
   "cell_type": "markdown",
   "metadata": {},
   "source": [
    "<font size=\"3\">We start the *image generator* class and choose the range of images.</font>"
   ]
  },
  {
   "cell_type": "code",
   "execution_count": 2,
   "metadata": {
    "scrolled": true
   },
   "outputs": [
    {
     "name": "stdout",
     "output_type": "stream",
     "text": [
      "images/val/images\\ILSVRC2012_val_00014918.JPEG colobus, colobus monkey\n",
      "images/val/images\\ILSVRC2012_val_00009446.JPEG king crab, Alaska crab, Alaskan king crab, Alaska king crab, Paralithodes camtschatica\n",
      "images/val/images\\ILSVRC2012_val_00018958.JPEG barn\n",
      "images/val/images\\ILSVRC2012_val_00006351.JPEG Sussex spaniel\n",
      "images/val/images\\ILSVRC2012_val_00017936.JPEG rugby ball\n",
      "images/val/images\\ILSVRC2012_val_00037724.JPEG matchstick\n",
      "images/val/images\\ILSVRC2012_val_00031552.JPEG plow, plough\n",
      "images/val/images\\ILSVRC2012_val_00004066.JPEG plastic bag\n",
      "images/val/images\\ILSVRC2012_val_00039920.JPEG mixing bowl\n",
      "images/val/images\\ILSVRC2012_val_00033392.JPEG hognose snake, puff adder, sand viper\n"
     ]
    }
   ],
   "source": [
    "image_generator.main()\n",
    "imgGen = image_generator.ImageGenerator('images/val/images', 'images/val/val.txt', 'images/val/synset_words.txt')\n",
    "label_list = imgGen.get_label_list() "
   ]
  },
  {
   "cell_type": "code",
   "execution_count": 3,
   "metadata": {},
   "outputs": [],
   "source": [
    "img_nums = []\n",
    "for i in range(1, 50001):                 # the range of images can be selected here\n",
    "    img_nums.append(i)\n",
    "\n",
    "img_paths = []\n",
    "filenames = []\n",
    "for i in range(len(img_nums)):\n",
    "    img_path, _ = imgGen.get_image_data(img_nums[i])\n",
    "    img_paths.append(img_path)                                             # we obtain the image paths and filenames\n",
    "for i in range(len(img_nums)):\n",
    "    img_name = imgGen.get_image_filename(img_nums[i])\n",
    "    filenames.append(img_name)"
   ]
  },
  {
   "cell_type": "markdown",
   "metadata": {},
   "source": [
    "<font size=\"3\">Extracting the <font color=\"green\">seven</font> selected features from the images.</font>"
   ]
  },
  {
   "cell_type": "code",
   "execution_count": 4,
   "metadata": {
    "scrolled": true
   },
   "outputs": [
    {
     "name": "stdout",
     "output_type": "stream",
     "text": [
      "50000\n"
     ]
    },
    {
     "data": {
      "image/png": "[encoded data removed]",
      "text/plain": [
       "<Figure size 432x288 with 1 Axes>"
      ]
     },
     "metadata": {
      "needs_background": "light"
     },
     "output_type": "display_data"
    }
   ],
   "source": [
    "features_list = []                            # this list hold features of all 50k images\n",
    "\n",
    "for i in range(len(img_paths)):\n",
    "    filename = img_paths[i]\n",
    "    features_list.append(feature_extractor.extract_features(filename)[0:7])\n",
    "print(len(features_list))"
   ]
  },
  {
   "cell_type": "code",
   "execution_count": 5,
   "metadata": {},
   "outputs": [],
   "source": [
    "import math\n",
    "nan_counter = 0\n",
    "for i in range(len(features_list)):\n",
    "    for j in range(len(features_list[i])):\n",
    "        if math.isnan(j):\n",
    "            nan_counter += 1\n",
    "            features_list[i][j] = 0"
   ]
  },
  {
   "cell_type": "code",
   "execution_count": 6,
   "metadata": {},
   "outputs": [
    {
     "data": {
      "text/plain": [
       "0"
      ]
     },
     "execution_count": 6,
     "metadata": {},
     "output_type": "execute_result"
    }
   ],
   "source": [
    "nan_counter"
   ]
  },
  {
   "cell_type": "markdown",
   "metadata": {},
   "source": [
    "<font size=\"5\">**Determining the best <font color=\"green\">top-1</font> and <font color=\"green\">top-5</font> model for each image**</font>"
   ]
  },
  {
   "cell_type": "markdown",
   "metadata": {},
   "source": [
    "<font size=\"3\">Connecting to the <font color=\"green\">database</font> to determine the best top-1 and top-5 models for each image.</font>"
   ]
  },
  {
   "cell_type": "code",
   "execution_count": 8,
   "metadata": {},
   "outputs": [],
   "source": [
    "best_top_1_model_names = []\n",
    "best_top_5_model_names = []\n",
    "list_model = [\"mobilenet_v1\", \"inception_v4\", \"resnet_v1_152\"]\n",
    "for i in range(len(img_nums)):\n",
    "    best_top_1_model_names.append(db.determine_best_top_n_model(\"inference\", img_nums[i], list_model, 1))  # best top-1 model for the image\n",
    "    best_top_5_model_names.append(db.determine_best_top_n_model(\"inference\", img_nums[i], list_model, 5))  # best top-5 model for the image"
   ]
  },
  {
   "cell_type": "code",
   "execution_count": 9,
   "metadata": {},
   "outputs": [],
   "source": [
    "def best_models(best_top_model_names):\n",
    "    best_models = []\n",
    "    for i in range(len(best_top_model_names)):\n",
    "        if best_top_model_names[i] == 'mobilenet_v1':\n",
    "            best_models.append([1, 0, 0])\n",
    "        elif best_top_model_names[i] == 'inception_v4':\n",
    "            best_models.append([0, 1, 0])\n",
    "        elif best_top_model_names[i] == 'resnet_v1_152':\n",
    "            best_models.append([0, 0, 1])\n",
    "        elif best_top_model_names[i] == 'failed':\n",
    "            best_models.append([0, 0, 0])\n",
    "    return best_models"
   ]
  },
  {
   "cell_type": "code",
   "execution_count": 10,
   "metadata": {},
   "outputs": [],
   "source": [
    "top_1_best_models = best_models(best_top_1_model_names)"
   ]
  },
  {
   "cell_type": "code",
   "execution_count": 11,
   "metadata": {},
   "outputs": [],
   "source": [
    "top_5_best_models = best_models(best_top_5_model_names)"
   ]
  },
  {
   "cell_type": "markdown",
   "metadata": {},
   "source": [
    "<font size=\"5\">**Writing the data to a csv file**</font>\n",
    "<br /><br />\n",
    "<font size=\"3\">Creating the best <font color=\"green\">top-1</font> and <font color=\"green\">top-5</font> model csv files.</font>"
   ]
  },
  {
   "cell_type": "code",
   "execution_count": 12,
   "metadata": {},
   "outputs": [],
   "source": [
    "filenames_array = np.array(filenames)\n",
    "top_1_best_models = np.array(top_1_best_models)\n",
    "features_list = np.array(features_list)\n",
    "\n",
    "from sklearn.preprocessing import StandardScaler, MinMaxScaler\n",
    "\n",
    "st_scaler = StandardScaler()\n",
    "scaler = MinMaxScaler()\n",
    "scaler.fit(features_list)\n",
    "features_list = scaler.transform(features_list)              # scaling the features to 0-1 range\n",
    "st_scaler.fit(features_list)\n",
    "features_list = st_scaler.transform(features_list)\n",
    "\n",
    "top_1_best_models = np.array(top_1_best_models)\n",
    "data_top_1 = np.append(filenames_array.reshape(len(filenames), 1), top_1_best_models, axis = 1)\n",
    "data_top_1 = np.append(data_top_1, features_list, axis = 1)\n",
    "\n",
    "top_5_best_models = np.array(top_5_best_models)\n",
    "data_top_5 = np.append(filenames_array.reshape(len(filenames), 1), top_5_best_models, axis = 1)\n",
    "data_top_5 = np.append(data_top_5, features_list, axis = 1)"
   ]
  },
  {
   "cell_type": "code",
   "execution_count": 13,
   "metadata": {},
   "outputs": [],
   "source": [
    "df_top_1 = pd.DataFrame(data = data_top_1, columns = ['filename', 'Mobilenet_v1', 'Inception_v4', 'Resnet_v1_152', 'kp_surf', 'average_perceived_brightness', \n",
    "                                                   'contrast', 'area_by_perim', 'aspect_ratio', 'edge_length1', 'hue1'])\n",
    "df_top_1.to_csv('all_new_features_hier_norm_top_1.csv', index = False)\n",
    "\n",
    "df_top_5 = pd.DataFrame(data = data_top_5, columns = ['filename', 'Mobilenet_v1', 'Inception_v4', 'Resnet_v1_152', 'kp_surf', 'average_perceived_brightness', \n",
    "                                                   'contrast', 'area_by_perim', 'aspect_ratio', 'edge_length1', 'hue1'])\n",
    "df_top_5.to_csv('all_new_features_hier_norm_top_5.csv', index = False)"
   ]
  },
  {
   "cell_type": "code",
   "execution_count": null,
   "metadata": {},
   "outputs": [],
   "source": []
  }
 ],
 "metadata": {
  "kernelspec": {
   "display_name": "Python 3",
   "language": "python",
   "name": "python3"
  },
  "language_info": {
   "codemirror_mode": {
    "name": "ipython",
    "version": 3
   },
   "file_extension": ".py",
   "mimetype": "text/x-python",
   "name": "python",
   "nbconvert_exporter": "python",
   "pygments_lexer": "ipython3",
   "version": "3.7.7"
  }
 },
 "nbformat": 4,
 "nbformat_minor": 4
}
