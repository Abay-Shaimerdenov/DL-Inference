{
 "cells": [
  {
   "cell_type": "markdown",
   "metadata": {},
   "source": [
    "<font size=\"5\">**Connecting to the database**</font>\n",
    "<br /><br />\n",
    "<font size=\"3\">First, we import the necessary libraries.</font>"
   ]
  },
  {
   "cell_type": "code",
   "execution_count": 1,
   "metadata": {},
   "outputs": [],
   "source": [
    "import mysql.connector as mysql\n",
    "import database as db\n",
    "import csv, sys\n",
    "import image_generator\n",
    "import feature_extractor\n",
    "import numpy as np\n",
    "import os\n",
    "#os.environ[\"CUDA_VISIBLE_DEVICES\"]=\"-1\"    \n",
    "#!unset CUDA_VISIBLE_DEVICES"
   ]
  },
  {
   "cell_type": "markdown",
   "metadata": {},
   "source": [
    "<font size=\"3\">Now, we establish the connection.</font>"
   ]
  },
  {
   "cell_type": "code",
   "execution_count": 2,
   "metadata": {},
   "outputs": [],
   "source": [
    "myDB = db.connect_db(\"inference\")\n",
    "list_model = [\"mobilenet_v1\", \"inception_v4\", \"resnet_v1_152\"]"
   ]
  },
  {
   "cell_type": "markdown",
   "metadata": {},
   "source": [
    "<font size=\"5\">**Extracting the features**</font>"
   ]
  },
  {
   "cell_type": "markdown",
   "metadata": {},
   "source": [
    "<font size=\"3\">We start the *image generator* class and choose the range of images.</font>"
   ]
  },
  {
   "cell_type": "code",
   "execution_count": 3,
   "metadata": {
    "scrolled": true
   },
   "outputs": [
    {
     "name": "stdout",
     "output_type": "stream",
     "text": [
      "images/val/images\\ILSVRC2012_val_00024099.JPEG burrito\n",
      "images/val/images\\ILSVRC2012_val_00012393.JPEG bighorn, bighorn sheep, cimarron, Rocky Mountain bighorn, Rocky Mountain sheep, Ovis canadensis\n",
      "images/val/images\\ILSVRC2012_val_00023741.JPEG stretcher\n",
      "images/val/images\\ILSVRC2012_val_00030225.JPEG lemon\n",
      "images/val/images\\ILSVRC2012_val_00002969.JPEG tiger shark, Galeocerdo cuvieri\n",
      "images/val/images\\ILSVRC2012_val_00028873.JPEG bagel, beigel\n",
      "images/val/images\\ILSVRC2012_val_00031284.JPEG Polaroid camera, Polaroid Land camera\n",
      "images/val/images\\ILSVRC2012_val_00003010.JPEG stole\n",
      "images/val/images\\ILSVRC2012_val_00017600.JPEG limpkin, Aramus pictus\n",
      "images/val/images\\ILSVRC2012_val_00030606.JPEG pug, pug-dog\n"
     ]
    }
   ],
   "source": [
    "image_generator.main()\n",
    "imgGen = image_generator.ImageGenerator('images/val/images', 'images/val/val.txt', 'images/val/synset_words.txt')\n",
    "label_list = imgGen.get_label_list() "
   ]
  },
  {
   "cell_type": "code",
   "execution_count": 4,
   "metadata": {},
   "outputs": [],
   "source": [
    "img_nums = []\n",
    "for i in range(1, 50001):                 # the range of images can be selected here\n",
    "    img_nums.append(i)\n",
    "\n",
    "img_paths = []\n",
    "filenames = []\n",
    "for i in range(len(img_nums)):\n",
    "    img_path, _ = imgGen.get_image_data(img_nums[i])\n",
    "    img_paths.append(img_path)                                             # we obtain the image paths and filenames\n",
    "for i in range(len(img_nums)):\n",
    "    img_name = imgGen.get_image_filename(img_nums[i])\n",
    "    filenames.append(img_name)"
   ]
  },
  {
   "cell_type": "markdown",
   "metadata": {},
   "source": [
    "<font size=\"3\">Extracting the <font color=\"green\">seven</font> selected features from the images.</font>"
   ]
  },
  {
   "cell_type": "code",
   "execution_count": 5,
   "metadata": {
    "scrolled": true
   },
   "outputs": [
    {
     "name": "stdout",
     "output_type": "stream",
     "text": [
      "50000\n"
     ]
    },
    {
     "data": {
      "image/png": "[encoded data removed]",
      "text/plain": [
       "<Figure size 432x288 with 1 Axes>"
      ]
     },
     "metadata": {
      "needs_background": "light"
     },
     "output_type": "display_data"
    }
   ],
   "source": [
    "features_list = []                            # this list hold features of all 50k images\n",
    "\n",
    "for i in range(len(img_paths)):\n",
    "    filename = img_paths[i]\n",
    "    features_list.append(feature_extractor.extract_features(filename))\n",
    "print(len(features_list))"
   ]
  },
  {
   "cell_type": "code",
   "execution_count": 6,
   "metadata": {},
   "outputs": [],
   "source": [
    "import math\n",
    "nan_counter = 0\n",
    "for i in range(len(features_list)):\n",
    "    for j in range(len(features_list[i])):\n",
    "        if math.isnan(j):\n",
    "            nan_counter += 1\n",
    "            features_list[i][j] = 0"
   ]
  },
  {
   "cell_type": "code",
   "execution_count": 10,
   "metadata": {},
   "outputs": [
    {
     "data": {
      "text/plain": [
       "0"
      ]
     },
     "execution_count": 10,
     "metadata": {},
     "output_type": "execute_result"
    }
   ],
   "source": [
    "nan_counter"
   ]
  },
  {
   "cell_type": "markdown",
   "metadata": {},
   "source": [
    "<font size=\"3\">Normalizing and standardizing the data.</font>"
   ]
  },
  {
   "cell_type": "code",
   "execution_count": 10,
   "metadata": {},
   "outputs": [],
   "source": [
    "#import sklearn.preprocessing as preprocessing\n",
    "#features_list1 = np.asarray(features_list)\n",
    "#min_max_scaler = preprocessing.MinMaxScaler(feature_range = (0, 1))        # scaling of features 0-1\n",
    "#features_list1 = min_max_scaler.fit_transform(features_list1)"
   ]
  },
  {
   "cell_type": "code",
   "execution_count": 11,
   "metadata": {},
   "outputs": [],
   "source": [
    "import sklearn.preprocessing as preprocessing\n",
    "\n",
    "features_list = preprocessing.normalize(features_list)\n",
    "features_list = preprocessing.scale(features_list)"
   ]
  },
  {
   "cell_type": "code",
   "execution_count": 9,
   "metadata": {},
   "outputs": [],
   "source": [
    "myDB = db.connect_db(\"inference\")\n",
    "list_model = [\"mobilenet_v1\", \"inception_v4\", \"resnet_v1_152\"]"
   ]
  },
  {
   "cell_type": "markdown",
   "metadata": {},
   "source": [
    "<font size=\"5\">**Determining the best <font color=\"green\">top-1</font> and <font color=\"green\">top-5</font> model for each image**</font>"
   ]
  },
  {
   "cell_type": "markdown",
   "metadata": {},
   "source": [
    "<font size=\"3\">Connecting to the <font color=\"green\">database</font> to determine the best top-1 and top-5 models for each image.</font>"
   ]
  },
  {
   "cell_type": "code",
   "execution_count": 11,
   "metadata": {},
   "outputs": [],
   "source": [
    "best_top_1_model_names = []\n",
    "best_top_5_model_names = []\n",
    "list_model = [\"mobilenet_v1\", \"inception_v4\", \"resnet_v1_152\"]\n",
    "for i in range(len(img_nums)):\n",
    "    best_top_1_model_names.append(db.determine_best_top_n_model(\"inference\", img_nums[i], list_model, 1))  # best top-1 model for the image\n",
    "    best_top_5_model_names.append(db.determine_best_top_n_model(\"inference\", img_nums[i], list_model, 5))  # best top-5 model for the image"
   ]
  },
  {
   "cell_type": "code",
   "execution_count": 12,
   "metadata": {},
   "outputs": [],
   "source": [
    "def best_models(best_top_model_names):\n",
    "    best_models = []\n",
    "    for i in range(len(best_top_model_names)):\n",
    "        if best_top_model_names[i] == 'mobilenet_v1':\n",
    "            best_models.append([1, 0, 0])\n",
    "        elif best_top_model_names[i] == 'inception_v4':\n",
    "            best_models.append([0, 1, 0])\n",
    "        elif best_top_model_names[i] == 'resnet_v1_152':\n",
    "            best_models.append([0, 0, 1])\n",
    "        elif best_top_model_names[i] == 'failed':\n",
    "            best_models.append([0, 0, 0])\n",
    "    return best_models"
   ]
  },
  {
   "cell_type": "code",
   "execution_count": 13,
   "metadata": {},
   "outputs": [],
   "source": [
    "top_1_best_models = best_models(best_top_1_model_names)"
   ]
  },
  {
   "cell_type": "code",
   "execution_count": 14,
   "metadata": {},
   "outputs": [],
   "source": [
    "top_5_best_models = best_models(best_top_5_model_names)"
   ]
  },
  {
   "cell_type": "markdown",
   "metadata": {},
   "source": [
    "<font size=\"5\">**Writing the data to a csv file**</font>\n",
    "<br /><br />\n",
    "<font size=\"3\">Creating the best <font color=\"green\">top-1</font> model csv.</font>"
   ]
  },
  {
   "cell_type": "code",
   "execution_count": 15,
   "metadata": {},
   "outputs": [],
   "source": [
    "filename = 'all_new_features_hier_norm_top_1.csv'\n",
    "with open('all_new_features_hier_norm_top_1.csv', mode='w', newline='') as featuresFile1:\n",
    "    features_writer = csv.writer(featuresFile1, delimiter=',', quotechar='\"', quoting=csv.QUOTE_MINIMAL)\n",
    "\n",
    "    features_writer.writerow(['filename', 'Mobilenet_v1', 'Inception_v4', 'Resnet_v1_152', 'kp_surf',\n",
    "                              'average_perceived_brightness', 'contrast', 'area_by_perim', 'aspect_ratio', 'edge_length1', \n",
    "                             'hue1'])\n",
    "    for i in range(len(features_list)):\n",
    "        row = ([filenames[i], top_1_best_models[i][0], top_1_best_models[i][1], top_1_best_models[i][2], features_list[i][0], features_list[i][1], features_list[i][2],\n",
    "               features_list[i][3], features_list[i][4], features_list[i][5], features_list[i][6]])\n",
    "        features_writer.writerow(row)"
   ]
  },
  {
   "cell_type": "markdown",
   "metadata": {},
   "source": [
    "<font size=\"3\">Completing the same operation for <font color=\"green\">top-5</font>.</font>"
   ]
  },
  {
   "cell_type": "code",
   "execution_count": 16,
   "metadata": {},
   "outputs": [],
   "source": [
    "filename = 'all_new_features_hier_norm_top_5.csv'\n",
    "with open('all_new_features_hier_norm_top_5.csv', mode='w', newline='') as featuresFile2:\n",
    "    features_writer = csv.writer(featuresFile2, delimiter=',', quotechar='\"', quoting=csv.QUOTE_MINIMAL)\n",
    "\n",
    "    features_writer.writerow(['filename', 'Mobilenet_v1', 'Inception_v4', 'Resnet_v1_152', 'kp_surf',\n",
    "                              'average_perceived_brightness', 'contrast', 'area_by_perim', 'aspect_ratio', 'edge_length1', \n",
    "                             'hue1'])\n",
    "    for i in range(len(features_list)):\n",
    "        row = ([filenames[i], top_5_best_models[i][0], top_5_best_models[i][1], top_5_best_models[i][2], features_list[i][0], features_list[i][1], features_list[i][2],\n",
    "               features_list[i][3], features_list[i][4], features_list[i][5], features_list[i][6]])\n",
    "        features_writer.writerow(row)"
   ]
  },
  {
   "cell_type": "code",
   "execution_count": null,
   "metadata": {},
   "outputs": [],
   "source": []
  }
 ],
 "metadata": {
  "kernelspec": {
   "display_name": "Python 3",
   "language": "python",
   "name": "python3"
  },
  "language_info": {
   "codemirror_mode": {
    "name": "ipython",
    "version": 3
   },
   "file_extension": ".py",
   "mimetype": "text/x-python",
   "name": "python",
   "nbconvert_exporter": "python",
   "pygments_lexer": "ipython3",
   "version": "3.7.7"
  }
 },
 "nbformat": 4,
 "nbformat_minor": 4
}
