{
 "cells": [
  {
   "cell_type": "markdown",
   "metadata": {},
   "source": [
    "<font size=\"5\">**Connecting to the database**</font>\n",
    "<br /><br />\n",
    "<font size=\"3\">First, we import the necessary libraries.</font>"
   ]
  },
  {
   "cell_type": "code",
   "execution_count": 1,
   "metadata": {},
   "outputs": [],
   "source": [
    "import mysql.connector as mysql\n",
    "import database as db\n",
    "import csv, sys\n",
    "import image_generator\n",
    "#!export CUDA_VISIBLE_DEVICES=\"\"\n",
    "import os\n",
    "#os.environ[\"CUDA_VISIBLE_DEVICES\"]=\"-1\"    \n",
    "#!unset CUDA_VISIBLE_DEVICES"
   ]
  },
  {
   "cell_type": "markdown",
   "metadata": {},
   "source": [
    "<font size=\"3\">Now, we establish the connection.</font>"
   ]
  },
  {
   "cell_type": "code",
   "execution_count": 2,
   "metadata": {},
   "outputs": [],
   "source": [
    "myDB = db.connect_db(\"inference\")\n",
    "list_model = [\"mobilenet_v1\", \"inception_v4\", \"resnet_v1_152\"]"
   ]
  },
  {
   "cell_type": "markdown",
   "metadata": {},
   "source": [
    "<font size=\"5\">**Extracting the features**</font>"
   ]
  },
  {
   "cell_type": "markdown",
   "metadata": {},
   "source": [
    "<font size=\"3\">We start the image generator class and choose the range of images.</font>"
   ]
  },
  {
   "cell_type": "code",
   "execution_count": 3,
   "metadata": {
    "scrolled": false
   },
   "outputs": [
    {
     "name": "stdout",
     "output_type": "stream",
     "text": [
      "images/val/images\\ILSVRC2012_val_00013113.JPEG French horn, horn\n",
      "images/val/images\\ILSVRC2012_val_00009670.JPEG common newt, Triturus vulgaris\n",
      "images/val/images\\ILSVRC2012_val_00028291.JPEG proboscis monkey, Nasalis larvatus\n",
      "images/val/images\\ILSVRC2012_val_00031659.JPEG abacus\n",
      "images/val/images\\ILSVRC2012_val_00041114.JPEG ostrich, Struthio camelus\n",
      "images/val/images\\ILSVRC2012_val_00037347.JPEG otterhound, otter hound\n",
      "images/val/images\\ILSVRC2012_val_00045643.JPEG jacamar\n",
      "images/val/images\\ILSVRC2012_val_00033646.JPEG oscilloscope, scope, cathode-ray oscilloscope, CRO\n",
      "images/val/images\\ILSVRC2012_val_00003760.JPEG cowboy hat, ten-gallon hat\n",
      "images/val/images\\ILSVRC2012_val_00035134.JPEG wild boar, boar, Sus scrofa\n"
     ]
    }
   ],
   "source": [
    "image_generator.main()\n",
    "imgGen = image_generator.ImageGenerator('images/val/images', 'images/val/val.txt', 'images/val/synset_words.txt')\n",
    "label_list = imgGen.get_label_list() "
   ]
  },
  {
   "cell_type": "code",
   "execution_count": 4,
   "metadata": {},
   "outputs": [],
   "source": [
    "img_nums = []\n",
    "for i in range(1, 20001):                 # the range of images can be selected here\n",
    "    img_nums.append(i)\n",
    "\n",
    "img_paths = []\n",
    "filenames = []\n",
    "for i in range(len(img_nums)):\n",
    "    img_path, img_label = imgGen.get_image_data(img_nums[i])\n",
    "    img_paths.append(img_path)                                             # we obtain the image paths and filenames\n",
    "for i in range(len(img_nums)):\n",
    "    img_name = imgGen.get_image_filename(img_nums[i])\n",
    "    filenames.append(img_name)"
   ]
  },
  {
   "cell_type": "markdown",
   "metadata": {},
   "source": [
    "<font size=\"3\">Extracting the <font color=\"green\">seven</font> selected features from the images.</font>"
   ]
  },
  {
   "cell_type": "code",
   "execution_count": 5,
   "metadata": {
    "scrolled": true
   },
   "outputs": [
    {
     "name": "stdout",
     "output_type": "stream",
     "text": [
      "20000\n"
     ]
    },
    {
     "data": {
      "image/png": "[encoded data removed]",
      "text/plain": [
       "<Figure size 432x288 with 1 Axes>"
      ]
     },
     "metadata": {
      "needs_background": "light"
     },
     "output_type": "display_data"
    }
   ],
   "source": [
    "import numpy as np\n",
    "import cv2\n",
    "import matplotlib.pyplot as plt\n",
    "import time\n",
    "import math\n",
    "from scipy import ndimage\n",
    "\n",
    "\n",
    "features_list = []\n",
    "for i in range(len(img_paths)):\n",
    "    filename = img_paths[i]\n",
    "    img = cv2.imread(filename, 3)\n",
    "    plt.imshow(img)\n",
    "\n",
    "    aspect_ratio = img.shape[1] / img.shape[0]                     # aspect ratio                     \n",
    "\n",
    "\n",
    "    B = np.mean(img[0])\n",
    "    G = np.mean(img[1])\n",
    "    R = np.mean(img[2])\n",
    "    average_perceived_brightness = (math.sqrt(0.241*(R**2) + 0.691*(G**2) + 0.068*(B**2)))  # average percevied brightness\n",
    "\n",
    "\n",
    "    edges = cv2.Canny(img, 100, 200)\n",
    "    plt.imshow(edges, cmap = \"gray\")\n",
    "    threshold = 100\n",
    "    labeled, nr_objects = ndimage.label(edges > threshold) \n",
    "    unique, lengths = np.unique(labeled, return_counts=True)\n",
    "    y, x, g = plt.hist(lengths[1:], bins = 7)\n",
    "    y_min = np.where(y == y.min())[0][0]\n",
    "    x_min = np.mean((x[y_min:y_min + 2]))\n",
    "    y_max = np.where(y == y.max())[0][0]\n",
    "    x_max = np.mean((x[y_max:y_max + 2]))\n",
    "    edge_length1 = ((x_max * y.max()) + (x_min * y.min())) / (y.max() + y.min())           # edge length\n",
    "    \n",
    "    #edges = cv2.Canny(img, 100, 200)\n",
    "    #plt.imshow(edges, cmap = \"gray\")\n",
    "    #threshold = 100\n",
    "    #labeled, nr_objects = ndimage.label(edges > threshold) \n",
    "    #unique, lengths = np.unique(labeled, return_counts=True)\n",
    "    #y, x, g = plt.hist(lengths[1:], bins = 7)\n",
    "    #y_max = np.where(y == y.max())[0][0]\n",
    "    #x_max = np.mean((x[y_max:y_max + 2]))\n",
    "    #edge_length1 = ((x_max * y.max())) / (y.max())\n",
    "\n",
    "    \n",
    "   \n",
    "    hsv = cv2.cvtColor( img, cv2.COLOR_BGR2HSV )\n",
    "    hue, sat, val = cv2.split(hsv)\n",
    "    hue = hue.flatten()\n",
    "    y, x, bars = plt.hist(hue, bins = 7)\n",
    "    y_min = np.where(y == y.min())[0][0]\n",
    "    x_min = np.mean((x[y_min:y_min + 2]))\n",
    "    y_max = np.where(y == y.max())[0][0]\n",
    "    x_max = np.mean((x[y_max:y_max + 2]))\n",
    "    hue1 = ((x_max * y.max()) + (x_min * y.min())) / (y.max() + y.min())             # hue\n",
    "\n",
    "    #hsv = cv2.cvtColor( img, cv2.COLOR_BGR2HSV )\n",
    "    #hue, sat, val = cv2.split(hsv)\n",
    "    #hue = hue.flatten()\n",
    "    #y, x, bars = plt.hist(hue, bins = 7)\n",
    "    #y_max = np.where(y == y.max())[0][0]\n",
    "    #x_max = np.mean((x[y_max:y_max + 2]))\n",
    "    #hue1 = ((x_max * y.max())) / (y.max())\n",
    "\n",
    "\n",
    "    area_by_perim = img.shape[0] * img.shape[1] / ((img.shape[0] + img.shape[1]) * 2)             # area by perimeter\n",
    "\n",
    "\n",
    "    imgGrey = cv2.cvtColor(img, cv2.COLOR_BGR2GRAY) \n",
    "    contrast = imgGrey.std()                                          # contrast\n",
    "\n",
    "\n",
    "    orb = cv2.ORB_create(nfeatures = 10000) \n",
    "    keypoints, descriptors = orb.detectAndCompute(img, None)\n",
    "    kp_surf = len(keypoints)                                            # number of keypoints\n",
    "\n",
    "\n",
    "    arr = np.array([kp_surf, average_perceived_brightness, contrast, area_by_perim, aspect_ratio,\n",
    "                    edge_length1, hue1])                                    # inserting all seven features into an array\n",
    "\n",
    "    features_list.append(arr)                               # appending them to a list\n",
    "\n",
    "print(len(features_list))"
   ]
  },
  {
   "cell_type": "markdown",
   "metadata": {},
   "source": [
    "<font size=\"3\">Scaling the data into the range 0-1.</font>"
   ]
  },
  {
   "cell_type": "code",
   "execution_count": 6,
   "metadata": {},
   "outputs": [],
   "source": [
    "import sklearn.preprocessing\n",
    "features_list = np.asarray(features_list)\n",
    "min_max_scaler = sklearn.preprocessing.MinMaxScaler(feature_range = (0, 1))        # scaling of features 0-1\n",
    "features_list = min_max_scaler.fit_transform(features_list)"
   ]
  },
  {
   "cell_type": "markdown",
   "metadata": {},
   "source": [
    "<font size=\"5\">**Determining the best <font color=\"green\">top-1</font> and <font color=\"green\">top-5</font> model for each image**</font>"
   ]
  },
  {
   "cell_type": "markdown",
   "metadata": {},
   "source": [
    "<font size=\"3\">Connecting to the database to determine the best top-1 and top-5 models for each image.</font>"
   ]
  },
  {
   "cell_type": "code",
   "execution_count": 7,
   "metadata": {},
   "outputs": [],
   "source": [
    "best_top_1 = []\n",
    "best_top_5 = []\n",
    "list_model = [\"mobilenet_v1\", \"inception_v4\", \"resnet_v1_152\"]\n",
    "for i in range(len(img_nums)):\n",
    "\n",
    "    best_top_1.append(db.determine_best_top_n_model(\"inference\", img_nums[i], list_model, 1))\n",
    "\n",
    "    best_top_5.append(db.determine_best_top_n_model(\"inference\", img_nums[i], list_model, 5))"
   ]
  },
  {
   "cell_type": "code",
   "execution_count": 8,
   "metadata": {},
   "outputs": [],
   "source": [
    "top_1_best_models = []              # appending the values representing the best top-1 model\n",
    "for i in range(len(best_top_1)):\n",
    "    if best_top_1[i] == 'mobilenet_v1':\n",
    "        top_1_best_models.append([1, 0, 0])\n",
    "    elif best_top_1[i] == 'inception_v4':\n",
    "        top_1_best_models.append([0, 1, 0])\n",
    "    elif best_top_1[i] == 'resnet_v1_152':\n",
    "        top_1_best_models.append([0, 0, 1])\n",
    "    elif best_top_1[i] == 'failed':\n",
    "        top_1_best_models.append([0, 0, 0])"
   ]
  },
  {
   "cell_type": "markdown",
   "metadata": {},
   "source": [
    "<font size=\"5\">**Writing the data to a csv file**</font>\n",
    "<br /><br />\n",
    "<font size=\"3\">Creating the best <font color=\"green\">top-1</font> model csv.</font>"
   ]
  },
  {
   "cell_type": "code",
   "execution_count": 9,
   "metadata": {},
   "outputs": [],
   "source": [
    "import csv, sys\n",
    "filename = 'all_new_features_hier_norm_top_1.csv'\n",
    "with open('all_new_features_hier_norm_top_1.csv', mode='w', newline='') as featuresFile:\n",
    "    features_writer = csv.writer(featuresFile, delimiter=',', quotechar='\"', quoting=csv.QUOTE_MINIMAL)\n",
    "\n",
    "    features_writer.writerow(['filename', 'Mobilenet_v1', 'Inception_v4', 'Resnet_v1_152', 'kp_surf',\n",
    "                              'average_perceived_brightness', 'contrast', 'area_by_perim', 'aspect_ratio', 'edge_length1', \n",
    "                             'hue1'])\n",
    "    for i in range(len(features_list)):\n",
    "        row = ([filenames[i], top_1_best_models[i][0], top_1_best_models[i][1], top_1_best_models[i][2], features_list[i][0], features_list[i][1], features_list[i][2],\n",
    "               features_list[i][3], features_list[i][4], features_list[i][5], features_list[i][6]])\n",
    "        features_writer.writerow(row)"
   ]
  },
  {
   "cell_type": "markdown",
   "metadata": {},
   "source": [
    "<font size=\"3\">Completing the same operation for <font color=\"green\">top-5</font>.</font>"
   ]
  },
  {
   "cell_type": "code",
   "execution_count": 10,
   "metadata": {},
   "outputs": [],
   "source": [
    "top_5_best_models = []                                        # this part is for the best top 5 model\n",
    "for i in range(len(best_top_5)):\n",
    "    if best_top_5[i] == 'mobilenet_v1':\n",
    "        top_5_best_models.append([1, 0, 0])\n",
    "    elif best_top_5[i] == 'inception_v4':\n",
    "        top_5_best_models.append([0, 1, 0])\n",
    "    elif best_top_5[i] == 'resnet_v1_152':\n",
    "        top_5_best_models.append([0, 0, 1])\n",
    "    elif best_top_5[i] == 'failed':\n",
    "        top_5_best_models.append([0, 0, 0])"
   ]
  },
  {
   "cell_type": "code",
   "execution_count": 11,
   "metadata": {},
   "outputs": [],
   "source": [
    "import csv, sys\n",
    "filename = 'all_new_features_hier_norm_top_5.csv'\n",
    "with open('all_new_features_hier_norm_top_5.csv', mode='w', newline='') as featuresFile:\n",
    "    features_writer = csv.writer(featuresFile, delimiter=',', quotechar='\"', quoting=csv.QUOTE_MINIMAL)\n",
    "\n",
    "    features_writer.writerow(['filename', 'Mobilenet_v1', 'Inception_v4', 'Resnet_v1_152', 'kp_surf',\n",
    "                              'average_perceived_brightness', 'contrast', 'area_by_perim', 'aspect_ratio', 'edge_length1', \n",
    "                             'hue1'])\n",
    "    for i in range(len(features_list)):\n",
    "        row = ([filenames[i], top_5_best_models[i][0], top_5_best_models[i][1], top_5_best_models[i][2], features_list[i][0], features_list[i][1], features_list[i][2],\n",
    "               features_list[i][3], features_list[i][4], features_list[i][5], features_list[i][6]])\n",
    "        features_writer.writerow(row)"
   ]
  },
  {
   "cell_type": "code",
   "execution_count": null,
   "metadata": {},
   "outputs": [],
   "source": []
  }
 ],
 "metadata": {
  "kernelspec": {
   "display_name": "Python 3",
   "language": "python",
   "name": "python3"
  },
  "language_info": {
   "codemirror_mode": {
    "name": "ipython",
    "version": 3
   },
   "file_extension": ".py",
   "mimetype": "text/x-python",
   "name": "python",
   "nbconvert_exporter": "python",
   "pygments_lexer": "ipython3",
   "version": "3.7.7"
  }
 },
 "nbformat": 4,
 "nbformat_minor": 4
}
