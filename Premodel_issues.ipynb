{
 "cells": [
  {
   "cell_type": "code",
   "execution_count": 1,
   "metadata": {},
   "outputs": [],
   "source": [
    "import numpy as np\n",
    "import pandas as pd\n",
    "#from sklearn.linear_model import LogisticRegression, LinearRegression\n",
    "#from sklearn.model_selection import train_test_split, cross_val_score\n",
    "from sklearn.metrics import accuracy_score\n",
    "#from sklearn.neighbors import KNeighborsClassifier\n",
    "#from sklearn.tree import DecisionTreeClassifier"
   ]
  },
  {
   "cell_type": "markdown",
   "metadata": {},
   "source": [
    "<font size=\"5\">**Visualizing the data**</font>"
   ]
  },
  {
   "cell_type": "code",
   "execution_count": 2,
   "metadata": {
    "scrolled": true
   },
   "outputs": [
    {
     "data": {
      "text/html": [
       "<div>\n",
       "<style scoped>\n",
       "    .dataframe tbody tr th:only-of-type {\n",
       "        vertical-align: middle;\n",
       "    }\n",
       "\n",
       "    .dataframe tbody tr th {\n",
       "        vertical-align: top;\n",
       "    }\n",
       "\n",
       "    .dataframe thead th {\n",
       "        text-align: right;\n",
       "    }\n",
       "</style>\n",
       "<table border=\"1\" class=\"dataframe\">\n",
       "  <thead>\n",
       "    <tr style=\"text-align: right;\">\n",
       "      <th></th>\n",
       "      <th>Mobilenet_v1</th>\n",
       "      <th>Inception_v4</th>\n",
       "      <th>Resnet_v1_152</th>\n",
       "    </tr>\n",
       "  </thead>\n",
       "  <tbody>\n",
       "    <tr>\n",
       "      <th>0</th>\n",
       "      <td>1</td>\n",
       "      <td>0</td>\n",
       "      <td>0</td>\n",
       "    </tr>\n",
       "    <tr>\n",
       "      <th>1</th>\n",
       "      <td>0</td>\n",
       "      <td>0</td>\n",
       "      <td>0</td>\n",
       "    </tr>\n",
       "    <tr>\n",
       "      <th>2</th>\n",
       "      <td>1</td>\n",
       "      <td>0</td>\n",
       "      <td>0</td>\n",
       "    </tr>\n",
       "    <tr>\n",
       "      <th>3</th>\n",
       "      <td>1</td>\n",
       "      <td>0</td>\n",
       "      <td>0</td>\n",
       "    </tr>\n",
       "    <tr>\n",
       "      <th>4</th>\n",
       "      <td>0</td>\n",
       "      <td>1</td>\n",
       "      <td>0</td>\n",
       "    </tr>\n",
       "  </tbody>\n",
       "</table>\n",
       "</div>"
      ],
      "text/plain": [
       "   Mobilenet_v1  Inception_v4  Resnet_v1_152\n",
       "0             1             0              0\n",
       "1             0             0              0\n",
       "2             1             0              0\n",
       "3             1             0              0\n",
       "4             0             1              0"
      ]
     },
     "execution_count": 2,
     "metadata": {},
     "output_type": "execute_result"
    }
   ],
   "source": [
    "data = pd.read_csv(\"Oracle_top_1.csv\")\n",
    "data.head()"
   ]
  },
  {
   "cell_type": "markdown",
   "metadata": {},
   "source": [
    "<font size=\"4\">Here, the proportion of outputs (0 or 1) are shown for Mobilenet, Inception and Resnet.</font>"
   ]
  },
  {
   "cell_type": "code",
   "execution_count": 3,
   "metadata": {
    "scrolled": false
   },
   "outputs": [
    {
     "name": "stdout",
     "output_type": "stream",
     "text": [
      "Mobilenet 1: 71.02%, 0: 28.98%\n",
      "Inception 1: 11.80%, 0: 88.20%\n",
      "Resnet 1: 3.47%, 0: 96.53%\n"
     ]
    },
    {
     "data": {
      "image/png": "[encoded data removed]",
      "text/plain": [
       "<Figure size 432x288 with 1 Axes>"
      ]
     },
     "metadata": {
      "needs_background": "light"
     },
     "output_type": "display_data"
    },
    {
     "data": {
      "image/png": "[encoded data removed]",
      "text/plain": [
       "<Figure size 432x288 with 1 Axes>"
      ]
     },
     "metadata": {
      "needs_background": "light"
     },
     "output_type": "display_data"
    },
    {
     "data": {
      "image/png": "[encoded data removed]",
      "text/plain": [
       "<Figure size 432x288 with 1 Axes>"
      ]
     },
     "metadata": {
      "needs_background": "light"
     },
     "output_type": "display_data"
    }
   ],
   "source": [
    "from collections import Counter\n",
    "\n",
    "data.hist(column = 'Mobilenet_v1')        \n",
    "mobilenet = Counter(data['Mobilenet_v1'])\n",
    "print(\"Mobilenet 1: {:.2f}%, 0: {:.2f}%\".format(mobilenet[1]/(mobilenet[0] + mobilenet[1]) * 100, mobilenet[0]/(mobilenet[0] + mobilenet[1]) * 100))\n",
    "data.hist(column = 'Inception_v4')      \n",
    "inception = Counter(data['Inception_v4'])\n",
    "print(\"Inception 1: {:.2f}%, 0: {:.2f}%\".format(inception[1]/(inception[0] + inception[1]) * 100, inception[0]/(inception[0] + inception[1]) * 100))\n",
    "data.hist(column = 'Resnet_v1_152')      \n",
    "resnet = Counter(data['Resnet_v1_152'])\n",
    "print(\"Resnet 1: {:.2f}%, 0: {:.2f}%\".format(resnet[1]/(resnet[0] + resnet[1]) * 100, resnet[0]/(resnet[0] + resnet[1]) * 100))          # Shift + O to display fully"
   ]
  },
  {
   "cell_type": "markdown",
   "metadata": {},
   "source": [
    "<font size=\"5\">**Comparing the predictions with true values**</font>"
   ]
  },
  {
   "cell_type": "markdown",
   "metadata": {},
   "source": [
    "<font size=\"4\">KNN premodel</font>"
   ]
  },
  {
   "cell_type": "code",
   "execution_count": 4,
   "metadata": {},
   "outputs": [
    {
     "data": {
      "text/html": [
       "<div>\n",
       "<style scoped>\n",
       "    .dataframe tbody tr th:only-of-type {\n",
       "        vertical-align: middle;\n",
       "    }\n",
       "\n",
       "    .dataframe tbody tr th {\n",
       "        vertical-align: top;\n",
       "    }\n",
       "\n",
       "    .dataframe thead th {\n",
       "        text-align: right;\n",
       "    }\n",
       "</style>\n",
       "<table border=\"1\" class=\"dataframe\">\n",
       "  <thead>\n",
       "    <tr style=\"text-align: right;\">\n",
       "      <th></th>\n",
       "      <th>filename</th>\n",
       "      <th>Mobilenet_v1</th>\n",
       "      <th>Inception_v4</th>\n",
       "      <th>Resnet_v1_152</th>\n",
       "    </tr>\n",
       "  </thead>\n",
       "  <tbody>\n",
       "    <tr>\n",
       "      <th>0</th>\n",
       "      <td>1</td>\n",
       "      <td>0</td>\n",
       "      <td>1</td>\n",
       "      <td>0</td>\n",
       "    </tr>\n",
       "    <tr>\n",
       "      <th>1</th>\n",
       "      <td>2</td>\n",
       "      <td>1</td>\n",
       "      <td>0</td>\n",
       "      <td>0</td>\n",
       "    </tr>\n",
       "    <tr>\n",
       "      <th>2</th>\n",
       "      <td>3</td>\n",
       "      <td>0</td>\n",
       "      <td>1</td>\n",
       "      <td>0</td>\n",
       "    </tr>\n",
       "    <tr>\n",
       "      <th>3</th>\n",
       "      <td>4</td>\n",
       "      <td>0</td>\n",
       "      <td>1</td>\n",
       "      <td>0</td>\n",
       "    </tr>\n",
       "    <tr>\n",
       "      <th>4</th>\n",
       "      <td>5</td>\n",
       "      <td>0</td>\n",
       "      <td>1</td>\n",
       "      <td>0</td>\n",
       "    </tr>\n",
       "  </tbody>\n",
       "</table>\n",
       "</div>"
      ],
      "text/plain": [
       "   filename  Mobilenet_v1  Inception_v4  Resnet_v1_152\n",
       "0         1             0             1              0\n",
       "1         2             1             0              0\n",
       "2         3             0             1              0\n",
       "3         4             0             1              0\n",
       "4         5             0             1              0"
      ]
     },
     "execution_count": 4,
     "metadata": {},
     "output_type": "execute_result"
    }
   ],
   "source": [
    "preds = pd.read_csv(\"knn_predictions.csv\")\n",
    "preds.head()"
   ]
  },
  {
   "cell_type": "code",
   "execution_count": 5,
   "metadata": {
    "scrolled": true
   },
   "outputs": [
    {
     "name": "stdout",
     "output_type": "stream",
     "text": [
      "Accuracy for Mobilenet = 0.46918\n",
      "Accuracy for Inception = 0.44512\n",
      "Accuracy for Resnet = 0.95612\n"
     ]
    }
   ],
   "source": [
    "y_true = data['Mobilenet_v1']\n",
    "y_preds = preds['Mobilenet_v1']\n",
    "print(\"Accuracy for Mobilenet = {}\".format(accuracy_score(y_true, y_preds)))\n",
    "\n",
    "y_true = data['Inception_v4']\n",
    "y_preds = preds['Inception_v4']\n",
    "print(\"Accuracy for Inception = {}\".format(accuracy_score(y_true, y_preds)))\n",
    "\n",
    "y_true = data['Resnet_v1_152']\n",
    "y_preds = preds['Resnet_v1_152']\n",
    "print(\"Accuracy for Resnet = {}\".format(accuracy_score(y_true, y_preds)))"
   ]
  },
  {
   "cell_type": "code",
   "execution_count": 6,
   "metadata": {},
   "outputs": [
    {
     "name": "stdout",
     "output_type": "stream",
     "text": [
      "Resnet true output counts = 0: 48267, 1: 1733\n",
      "Resnet predicted output counts = 0: 49503, 1: 497\n"
     ]
    }
   ],
   "source": [
    "from collections import Counter\n",
    "\n",
    "print(\"Resnet true output counts = 0: {}, 1: {}\".format(Counter(y_true)[0], Counter(y_true)[1]))\n",
    "print(\"Resnet predicted output counts = 0: {}, 1: {}\".format(Counter(y_preds)[0], Counter(y_preds)[1]))"
   ]
  },
  {
   "cell_type": "markdown",
   "metadata": {},
   "source": [
    "<font size=\"3\">As we can see from this output, the premodel predicts 1 much less times than it should.</font>"
   ]
  },
  {
   "cell_type": "markdown",
   "metadata": {},
   "source": [
    "<font size=\"4\">Logistic Regression premodel</font>"
   ]
  },
  {
   "cell_type": "code",
   "execution_count": 7,
   "metadata": {},
   "outputs": [
    {
     "data": {
      "text/html": [
       "<div>\n",
       "<style scoped>\n",
       "    .dataframe tbody tr th:only-of-type {\n",
       "        vertical-align: middle;\n",
       "    }\n",
       "\n",
       "    .dataframe tbody tr th {\n",
       "        vertical-align: top;\n",
       "    }\n",
       "\n",
       "    .dataframe thead th {\n",
       "        text-align: right;\n",
       "    }\n",
       "</style>\n",
       "<table border=\"1\" class=\"dataframe\">\n",
       "  <thead>\n",
       "    <tr style=\"text-align: right;\">\n",
       "      <th></th>\n",
       "      <th>filename</th>\n",
       "      <th>Mobilenet_v1</th>\n",
       "      <th>Inception_v4</th>\n",
       "      <th>Resnet_v1_152</th>\n",
       "    </tr>\n",
       "  </thead>\n",
       "  <tbody>\n",
       "    <tr>\n",
       "      <th>0</th>\n",
       "      <td>1</td>\n",
       "      <td>0</td>\n",
       "      <td>1</td>\n",
       "      <td>0</td>\n",
       "    </tr>\n",
       "    <tr>\n",
       "      <th>1</th>\n",
       "      <td>2</td>\n",
       "      <td>1</td>\n",
       "      <td>0</td>\n",
       "      <td>0</td>\n",
       "    </tr>\n",
       "    <tr>\n",
       "      <th>2</th>\n",
       "      <td>3</td>\n",
       "      <td>0</td>\n",
       "      <td>1</td>\n",
       "      <td>0</td>\n",
       "    </tr>\n",
       "    <tr>\n",
       "      <th>3</th>\n",
       "      <td>4</td>\n",
       "      <td>0</td>\n",
       "      <td>1</td>\n",
       "      <td>0</td>\n",
       "    </tr>\n",
       "    <tr>\n",
       "      <th>4</th>\n",
       "      <td>5</td>\n",
       "      <td>0</td>\n",
       "      <td>1</td>\n",
       "      <td>0</td>\n",
       "    </tr>\n",
       "  </tbody>\n",
       "</table>\n",
       "</div>"
      ],
      "text/plain": [
       "   filename  Mobilenet_v1  Inception_v4  Resnet_v1_152\n",
       "0         1             0             1              0\n",
       "1         2             1             0              0\n",
       "2         3             0             1              0\n",
       "3         4             0             1              0\n",
       "4         5             0             1              0"
      ]
     },
     "execution_count": 7,
     "metadata": {},
     "output_type": "execute_result"
    }
   ],
   "source": [
    "preds = pd.read_csv(\"log_reg_predictions.csv\")\n",
    "preds.head()"
   ]
  },
  {
   "cell_type": "code",
   "execution_count": 8,
   "metadata": {},
   "outputs": [
    {
     "name": "stdout",
     "output_type": "stream",
     "text": [
      "Accuracy for Mobilenet = 0.47342\n",
      "Accuracy for Inception = 0.42902\n",
      "Accuracy for Resnet = 0.96534\n",
      "Random number generator accuracy for Mobilenet = 0.50096\n",
      "Random number generator accuracy for Inception = 0.50092\n"
     ]
    }
   ],
   "source": [
    "y_true = data['Mobilenet_v1']\n",
    "y_preds = preds['Mobilenet_v1']\n",
    "print(\"Accuracy for Mobilenet = {}\".format(accuracy_score(y_true, y_preds)))\n",
    "\n",
    "y_true = data['Inception_v4']\n",
    "y_preds = preds['Inception_v4']\n",
    "print(\"Accuracy for Inception = {}\".format(accuracy_score(y_true, y_preds)))\n",
    "\n",
    "y_true = data['Resnet_v1_152']\n",
    "y_preds = preds['Resnet_v1_152']\n",
    "print(\"Accuracy for Resnet = {}\".format(accuracy_score(y_true, y_preds)))\n",
    "\n",
    "import random\n",
    "\n",
    "random_list = [random.randint(0, 1) for i in range(50000)]\n",
    "y_true = data['Mobilenet_v1']\n",
    "accuracy_score(y_true, random_list)\n",
    "print(\"Random number generator accuracy for Mobilenet = {}\".format(accuracy_score(y_true, random_list)))\n",
    "y_true = data['Inception_v4']\n",
    "accuracy_score(y_true, random_list)\n",
    "print(\"Random number generator accuracy for Inception = {}\".format(accuracy_score(y_true, random_list)))"
   ]
  },
  {
   "cell_type": "markdown",
   "metadata": {},
   "source": [
    "<font size=\"3\">The randomly generated values have higher accuracy than the premodels, which shows that the premodels are not able to learn from the dataset.</font>"
   ]
  },
  {
   "cell_type": "code",
   "execution_count": 9,
   "metadata": {
    "scrolled": true
   },
   "outputs": [
    {
     "name": "stdout",
     "output_type": "stream",
     "text": [
      "Resnet true output counts = 0: 48267, 1: 1733\n",
      "Resnet predicted output counts = 0: 50000, 1: 0\n"
     ]
    }
   ],
   "source": [
    "from collections import Counter\n",
    "\n",
    "y_true = data['Resnet_v1_152']\n",
    "print(\"Resnet true output counts = 0: {}, 1: {}\".format(Counter(y_true)[0], Counter(y_true)[1]))\n",
    "print(\"Resnet predicted output counts = 0: {}, 1: {}\".format(Counter(y_preds)[0], Counter(y_preds)[1]))"
   ]
  },
  {
   "cell_type": "markdown",
   "metadata": {},
   "source": [
    "<font size=\"3\">Here, the premodel never predicted 1.</font>"
   ]
  }
 ],
 "metadata": {
  "kernelspec": {
   "display_name": "Python 3",
   "language": "python",
   "name": "python3"
  },
  "language_info": {
   "codemirror_mode": {
    "name": "ipython",
    "version": 3
   },
   "file_extension": ".py",
   "mimetype": "text/x-python",
   "name": "python",
   "nbconvert_exporter": "python",
   "pygments_lexer": "ipython3",
   "version": "3.8.3"
  }
 },
 "nbformat": 4,
 "nbformat_minor": 4
}
