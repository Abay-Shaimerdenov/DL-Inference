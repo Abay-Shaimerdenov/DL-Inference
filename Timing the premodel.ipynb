{
 "cells": [
  {
   "cell_type": "markdown",
   "metadata": {},
   "source": [
    "<font size=\"5\">**Timing the premodel**</font>\n",
    "<br /><br />\n",
    "<font size=\"3\">This code is intended to time the <font color = \"green\">average premodel overhead</font> per single image.</font>"
   ]
  },
  {
   "cell_type": "code",
   "execution_count": 1,
   "metadata": {},
   "outputs": [],
   "source": [
    "import numpy as np\n",
    "from sklearn import neighbors\n",
    "from sklearn.model_selection import train_test_split\n",
    "from sklearn.linear_model import LogisticRegression\n",
    "import pandas as pd\n",
    "from matplotlib import pyplot\n",
    "from numpy import where\n",
    "from sklearn.metrics import accuracy_score\n",
    "import image_generator\n",
    "import feature_extractor\n",
    "import time"
   ]
  },
  {
   "cell_type": "code",
   "execution_count": 2,
   "metadata": {
    "scrolled": true
   },
   "outputs": [
    {
     "name": "stdout",
     "output_type": "stream",
     "text": [
      "images/val/images\\ILSVRC2012_val_00017268.JPEG Shih-Tzu\n",
      "images/val/images\\ILSVRC2012_val_00012945.JPEG knee pad\n",
      "images/val/images\\ILSVRC2012_val_00046134.JPEG basenji\n",
      "images/val/images\\ILSVRC2012_val_00043594.JPEG motor scooter, scooter\n",
      "images/val/images\\ILSVRC2012_val_00027151.JPEG minivan\n",
      "images/val/images\\ILSVRC2012_val_00024623.JPEG neck brace\n",
      "images/val/images\\ILSVRC2012_val_00026867.JPEG scuba diver\n",
      "images/val/images\\ILSVRC2012_val_00025125.JPEG bonnet, poke bonnet\n",
      "images/val/images\\ILSVRC2012_val_00003277.JPEG running shoe\n",
      "images/val/images\\ILSVRC2012_val_00045182.JPEG motor scooter, scooter\n"
     ]
    }
   ],
   "source": [
    "image_generator.main()\n",
    "\n",
    "\n",
    "imgGen = image_generator.ImageGenerator('images/val/images', 'images/val/val.txt', 'images/val/synset_words.txt')\n",
    "\n",
    "\n",
    "df = pd.read_csv('all_new_features_hier_norm_top_1.csv')\n",
    "df.drop(['filename'], 1, inplace = True)\n",
    "\n",
    "X = np.array(df.drop(['Mobilenet_v1', 'Inception_v4', 'Resnet_v1_152'], 1))\n",
    "\n",
    "Y = np.array(df[['Mobilenet_v1', 'Inception_v4', 'Resnet_v1_152']])\n",
    "\n",
    "\n",
    "\n",
    "\n",
    "img_nums = []\n",
    "for i in range(1, 50001):                 # the range of images can be selected here\n",
    "    img_nums.append(i)\n",
    "\n",
    "img_features = []\n",
    "img_paths = []\n",
    "filenames = []\n",
    "for i in range(len(img_nums)):\n",
    "    img_path, _ = imgGen.get_image_data(img_nums[i])\n",
    "    img_paths.append(img_path)                                             # we obtain the image paths and filenames\n",
    "for i in range(len(img_nums)):\n",
    "    img_name = imgGen.get_image_filename(img_nums[i])\n",
    "    filenames.append(img_name)"
   ]
  },
  {
   "cell_type": "markdown",
   "metadata": {},
   "source": [
    "<font size=\"3\">**KNN premodel**</font>"
   ]
  },
  {
   "cell_type": "code",
   "execution_count": 8,
   "metadata": {},
   "outputs": [
    {
     "name": "stdout",
     "output_type": "stream",
     "text": [
      "Average time per image is 0.05174009815216064\n"
     ]
    },
    {
     "data": {
      "image/png": "[encoded data removed]",
      "text/plain": [
       "<Figure size 432x288 with 1 Axes>"
      ]
     },
     "metadata": {
      "needs_background": "light"
     },
     "output_type": "display_data"
    }
   ],
   "source": [
    "accuracy_list = []\n",
    "model_mobile_knn = neighbors.KNeighborsClassifier()\n",
    "model_inception_knn = neighbors.KNeighborsClassifier()\n",
    "model_resnet_knn = neighbors.KNeighborsClassifier()\n",
    "model_mobile_knn.fit(X, Y[:, 0])\n",
    "model_inception_knn.fit(X, Y[:, 1])\n",
    "model_resnet_knn.fit(X, Y[:, 2])\n",
    "\n",
    "\n",
    "# Timing how long it takes to extract the features and predict\n",
    "# the right model for a number of images and then taking the average\n",
    "\n",
    "start_time = time.time()\n",
    "for i in range(len(img_paths)):\n",
    "    filename = img_paths[i]\n",
    "    img_features.append(feature_extractor.extract_features(filename))\n",
    "\n",
    "img_features = np.array(img_features)\n",
    "predicted_models = []\n",
    "for i in range(len(img_features)):\n",
    "    img_feature = img_features[i].reshape(1, -1)\n",
    "    mobile = model_mobile_knn.predict(img_feature)\n",
    "    if mobile == 1:\n",
    "        predicted_models.append('mobilenet_v1')\n",
    "    elif mobile == 0:\n",
    "        inception = model_inception_knn.predict(img_feature)\n",
    "        if inception == 1:\n",
    "            predicted_models.append('inception_v4')\n",
    "        elif inception == 0:\n",
    "            resnet = model_resnet_knn.predict(img_feature)\n",
    "            if resnet == 1:\n",
    "                predicted_models.append('resnet_v1_152')\n",
    "            elif resnet == 0:\n",
    "                predicted_models.append('failed')\n",
    "\n",
    "end_time = time.time() - start_time\n",
    "print(\"Average time per image is {}\".format(end_time/len(img_features)))"
   ]
  },
  {
   "cell_type": "markdown",
   "metadata": {},
   "source": [
    "<font size=\"3\">**Logistic Regression premodel**</font>"
   ]
  },
  {
   "cell_type": "code",
   "execution_count": 3,
   "metadata": {},
   "outputs": [
    {
     "name": "stderr",
     "output_type": "stream",
     "text": [
      "C:\\Users\\User\\anaconda3\\envs\\py37\\lib\\site-packages\\sklearn\\linear_model\\_logistic.py:764: ConvergenceWarning: lbfgs failed to converge (status=1):\n",
      "STOP: TOTAL NO. of ITERATIONS REACHED LIMIT.\n",
      "\n",
      "Increase the number of iterations (max_iter) or scale the data as shown in:\n",
      "    https://scikit-learn.org/stable/modules/preprocessing.html\n",
      "Please also refer to the documentation for alternative solver options:\n",
      "    https://scikit-learn.org/stable/modules/linear_model.html#logistic-regression\n",
      "  extra_warning_msg=_LOGISTIC_SOLVER_CONVERGENCE_MSG)\n",
      "C:\\Users\\User\\anaconda3\\envs\\py37\\lib\\site-packages\\sklearn\\linear_model\\_logistic.py:764: ConvergenceWarning: lbfgs failed to converge (status=1):\n",
      "STOP: TOTAL NO. of ITERATIONS REACHED LIMIT.\n",
      "\n",
      "Increase the number of iterations (max_iter) or scale the data as shown in:\n",
      "    https://scikit-learn.org/stable/modules/preprocessing.html\n",
      "Please also refer to the documentation for alternative solver options:\n",
      "    https://scikit-learn.org/stable/modules/linear_model.html#logistic-regression\n",
      "  extra_warning_msg=_LOGISTIC_SOLVER_CONVERGENCE_MSG)\n"
     ]
    },
    {
     "name": "stdout",
     "output_type": "stream",
     "text": [
      "Average time per image is 0.053167885146141056\n"
     ]
    },
    {
     "data": {
      "image/png": "[encoded data removed]",
      "text/plain": [
       "<Figure size 432x288 with 1 Axes>"
      ]
     },
     "metadata": {
      "needs_background": "light"
     },
     "output_type": "display_data"
    }
   ],
   "source": [
    "accuracy_list = []\n",
    "model_mobile_log_reg = LogisticRegression()\n",
    "model_inception_log_reg = LogisticRegression()\n",
    "model_resnet_log_reg = LogisticRegression()\n",
    "model_mobile_log_reg.fit(X, Y[:, 0])\n",
    "model_inception_log_reg.fit(X, Y[:, 1])\n",
    "model_resnet_log_reg.fit(X, Y[:, 2])\n",
    "\n",
    "\n",
    "# Timing how long it takes to extract the features and predict\n",
    "# the right model for a number of images and then taking the average\n",
    "\n",
    "start_time = time.time()\n",
    "for i in range(len(img_paths)):\n",
    "    filename = img_paths[i]\n",
    "    img_features.append(feature_extractor.extract_features(filename))\n",
    "\n",
    "img_features = np.array(img_features)\n",
    "predicted_models = []\n",
    "for i in range(len(img_features)):\n",
    "    img_feature = img_features[i].reshape(1, -1)\n",
    "    mobile = model_mobile_log_reg.predict(img_feature)\n",
    "    if mobile == 1:\n",
    "        predicted_models.append('mobilenet_v1')\n",
    "    elif mobile == 0:\n",
    "        inception = model_inception_log_reg.predict(img_feature)\n",
    "        if inception == 1:\n",
    "            predicted_models.append('inception_v4')\n",
    "        elif inception == 0:\n",
    "            resnet = model_resnet_log_reg.predict(img_feature)\n",
    "            if resnet == 1:\n",
    "                predicted_models.append('resnet_v1_152')\n",
    "            elif resnet == 0:\n",
    "                predicted_models.append('failed')\n",
    "\n",
    "end_time = time.time() - start_time\n",
    "print(\"Average time per image is {}\".format(end_time/len(img_features)))"
   ]
  },
  {
   "cell_type": "code",
   "execution_count": null,
   "metadata": {},
   "outputs": [],
   "source": []
  }
 ],
 "metadata": {
  "kernelspec": {
   "display_name": "Python 3",
   "language": "python",
   "name": "python3"
  },
  "language_info": {
   "codemirror_mode": {
    "name": "ipython",
    "version": 3
   },
   "file_extension": ".py",
   "mimetype": "text/x-python",
   "name": "python",
   "nbconvert_exporter": "python",
   "pygments_lexer": "ipython3",
   "version": "3.7.7"
  }
 },
 "nbformat": 4,
 "nbformat_minor": 4
}
